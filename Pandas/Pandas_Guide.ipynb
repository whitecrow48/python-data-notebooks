{
 "cells": [
  {
   "cell_type": "markdown",
   "id": "c7d888f2-eeed-4899-878e-090bde6109d4",
   "metadata": {},
   "source": [
    "<div align=\"center\">\n",
    "\n",
    "# Справочник по Pandas\n",
    "\n",
    "</div>\n",
    "\n",
    "---\n",
    "\n",
    "**Pandas** это высокоуровненая Python библиотека для анализа данных, построенная поверх **NumPy**, что является большим плюсом в производительности.\n",
    "\n",
    "Основными структурами данных в **Pandas** являются классы **Series** и **DataFrame**"
   ]
  },
  {
   "cell_type": "markdown",
   "id": "317d4f8a-f5f8-46d8-8973-02f7abe066a9",
   "metadata": {},
   "source": [
    "<div align=\"center\">\n",
    "\n",
    "# Pandas Series\n",
    "\n",
    "</div>\n",
    "\n",
    "---\n",
    "\n",
    "Структура/объект **Series** представляет из себя объект, похожий на одномерный массив(питоновский список к примеру), но отличительной его чертой является наличие ассоциированных меток, т.н. индексов, вдоль каждого элемента из списка. Такая особенность превращает его в ассоциативный массив или словарь в **Python**.\n",
    "\n",
    "Далее, будет рассмотренно, как работать с **Series**:\n",
    "* Индексация;\n",
    "* Обращение по индексам;\n",
    "* Замена значений;\n",
    "* Фильтрация (маски);\n",
    "* Подать Series на вход словарь, именовать индексы и значения;"
   ]
  },
  {
   "cell_type": "code",
   "execution_count": 145,
   "id": "cd05dd79-937a-45bb-be4a-1e87966caadc",
   "metadata": {},
   "outputs": [],
   "source": [
    "import pandas as pd\n",
    "import numpy as np\n",
    "\n",
    "import seaborn as sns\n",
    "import matplotlib.pyplot as plt\n",
    "\n",
    "sns.set(rc={'figure.figsize':(16,6)}, style=\"whitegrid\")"
   ]
  },
  {
   "cell_type": "code",
   "execution_count": 146,
   "id": "ae38460a-a57b-4644-8869-5a90627d068d",
   "metadata": {},
   "outputs": [
    {
     "data": {
      "text/plain": [
       "0     5\n",
       "1     6\n",
       "2     7\n",
       "3     8\n",
       "4     9\n",
       "5    10\n",
       "dtype: int64"
      ]
     },
     "execution_count": 146,
     "metadata": {},
     "output_type": "execute_result"
    }
   ],
   "source": [
    "# Одномерный массив\n",
    "my_series = pd.Series([5, 6, 7, 8, 9, 10])\n",
    "\n",
    "my_series"
   ]
  },
  {
   "cell_type": "code",
   "execution_count": 147,
   "id": "2e3985c0-16e7-4a57-bbb9-c5ee5032c699",
   "metadata": {},
   "outputs": [
    {
     "data": {
      "text/plain": [
       "RangeIndex(start=0, stop=6, step=1)"
      ]
     },
     "execution_count": 147,
     "metadata": {},
     "output_type": "execute_result"
    }
   ],
   "source": [
    "# Индексы\n",
    "my_series.index"
   ]
  },
  {
   "cell_type": "code",
   "execution_count": 148,
   "id": "c9931011-76f4-4098-8d62-e0a635acca6c",
   "metadata": {},
   "outputs": [
    {
     "data": {
      "text/plain": [
       "array([ 5,  6,  7,  8,  9, 10])"
      ]
     },
     "execution_count": 148,
     "metadata": {},
     "output_type": "execute_result"
    }
   ],
   "source": [
    "# Значения\n",
    "my_series.values"
   ]
  },
  {
   "cell_type": "code",
   "execution_count": 149,
   "id": "2d611a82-db12-4b58-a9f5-d9940689c865",
   "metadata": {},
   "outputs": [
    {
     "data": {
      "text/plain": [
       "a     5\n",
       "b     6\n",
       "c     7\n",
       "d     8\n",
       "e     9\n",
       "f    10\n",
       "dtype: int64"
      ]
     },
     "execution_count": 149,
     "metadata": {},
     "output_type": "execute_result"
    }
   ],
   "source": [
    "# Можем вручную проставить индексы.\n",
    "my_series2 = pd.Series([5, 6, 7, 8, 9, 10], index=['a', 'b', 'c', 'd', 'e', 'f'])\n",
    "my_series2"
   ]
  },
  {
   "cell_type": "code",
   "execution_count": 150,
   "id": "39e53b8d-26cb-44f0-8d65-dae8c74d51a7",
   "metadata": {},
   "outputs": [
    {
     "data": {
      "text/plain": [
       "a    5\n",
       "dtype: int64"
      ]
     },
     "execution_count": 150,
     "metadata": {},
     "output_type": "execute_result"
    }
   ],
   "source": [
    "# Как обращаться к элементам массива\n",
    "my_series[[4]]\n",
    "my_series2[['a']]"
   ]
  },
  {
   "cell_type": "code",
   "execution_count": 151,
   "id": "154e01df-85c2-4c0d-806b-d4738970f7a1",
   "metadata": {},
   "outputs": [
    {
     "data": {
      "text/plain": [
       "a    5\n",
       "dtype: int64"
      ]
     },
     "execution_count": 151,
     "metadata": {},
     "output_type": "execute_result"
    }
   ],
   "source": [
    "my_series2[['a']]"
   ]
  },
  {
   "cell_type": "code",
   "execution_count": 152,
   "id": "5ab4ce11-2153-437d-9770-cfad69332f95",
   "metadata": {},
   "outputs": [
    {
     "data": {
      "text/plain": [
       "a    0\n",
       "b    0\n",
       "c    7\n",
       "d    8\n",
       "e    9\n",
       "f    0\n",
       "dtype: int64"
      ]
     },
     "execution_count": 152,
     "metadata": {},
     "output_type": "execute_result"
    }
   ],
   "source": [
    "# Замена значений \n",
    "my_series2[['a', 'b', 'f']] = 0\n",
    "my_series2"
   ]
  },
  {
   "cell_type": "code",
   "execution_count": 153,
   "id": "62c8b17a-c629-40a7-aa68-c9a47f6b00fa",
   "metadata": {},
   "outputs": [
    {
     "data": {
      "text/plain": [
       "c    7\n",
       "d    8\n",
       "e    9\n",
       "dtype: int64"
      ]
     },
     "execution_count": 153,
     "metadata": {},
     "output_type": "execute_result"
    }
   ],
   "source": [
    "# Фильтрация (маска)\n",
    "my_series2[(my_series2 > 0)]"
   ]
  },
  {
   "cell_type": "code",
   "execution_count": 154,
   "id": "91e9e3fa-606d-42d8-83d8-7465bcd50e06",
   "metadata": {},
   "outputs": [
    {
     "data": {
      "text/plain": [
       "a    5\n",
       "b    6\n",
       "c    7\n",
       "d    8\n",
       "dtype: int64"
      ]
     },
     "execution_count": 154,
     "metadata": {},
     "output_type": "execute_result"
    }
   ],
   "source": [
    "# Можно подать на вход словарь\n",
    "my_series3 = pd.Series({'a': 5, 'b': 6, 'c': 7, 'd': 8})\n",
    "my_series3"
   ]
  },
  {
   "cell_type": "code",
   "execution_count": 155,
   "id": "4c90d649-16ea-4441-9d4b-f5f3c4924e66",
   "metadata": {},
   "outputs": [
    {
     "data": {
      "text/plain": [
       "letters\n",
       "a    5\n",
       "b    6\n",
       "c    7\n",
       "d    8\n",
       "Name: numbers, dtype: int64"
      ]
     },
     "execution_count": 155,
     "metadata": {},
     "output_type": "execute_result"
    }
   ],
   "source": [
    "# Именовать индексы и значения\n",
    "my_series3.name = 'numbers'\n",
    "my_series3.index.name = 'letters'\n",
    "my_series3"
   ]
  },
  {
   "cell_type": "markdown",
   "id": "4c67b9fe-f783-4c71-9097-0ec858eb8b4d",
   "metadata": {},
   "source": [
    "<div align=\"center\">\n",
    "\n",
    "# Pandas DataFrame\n",
    "\n",
    "</div>\n",
    "\n",
    "---\n",
    "\n",
    "Объект **DataFrame** представляет собой обычную таблицу, в этой таблице есть столбцы и строки, столбцами в обекте **DataFrame** выступают объекты **Series**, строки которых являются их непосредственными элементами.\n",
    "\n",
    "**Pandas** называется так, потому что по другому можно сказать, что это panel data.\n",
    "\n",
    "\n",
    "Далее, будет рассмотренно, как работать с **Pandas**:\n",
    "\n"
   ]
  },
  {
   "cell_type": "code",
   "execution_count": 156,
   "id": "e240c4fc-14de-4cfb-bba6-b4b0c1fda538",
   "metadata": {},
   "outputs": [
    {
     "data": {
      "text/html": [
       "<div>\n",
       "<style scoped>\n",
       "    .dataframe tbody tr th:only-of-type {\n",
       "        vertical-align: middle;\n",
       "    }\n",
       "\n",
       "    .dataframe tbody tr th {\n",
       "        vertical-align: top;\n",
       "    }\n",
       "\n",
       "    .dataframe thead th {\n",
       "        text-align: right;\n",
       "    }\n",
       "</style>\n",
       "<table border=\"1\" class=\"dataframe\">\n",
       "  <thead>\n",
       "    <tr style=\"text-align: right;\">\n",
       "      <th></th>\n",
       "      <th>country</th>\n",
       "      <th>population</th>\n",
       "      <th>square</th>\n",
       "    </tr>\n",
       "  </thead>\n",
       "  <tbody>\n",
       "    <tr>\n",
       "      <th>0</th>\n",
       "      <td>Kazakhstan</td>\n",
       "      <td>17.04</td>\n",
       "      <td>2724902</td>\n",
       "    </tr>\n",
       "    <tr>\n",
       "      <th>1</th>\n",
       "      <td>Russia</td>\n",
       "      <td>143.50</td>\n",
       "      <td>17125191</td>\n",
       "    </tr>\n",
       "    <tr>\n",
       "      <th>2</th>\n",
       "      <td>Belarus</td>\n",
       "      <td>9.50</td>\n",
       "      <td>207600</td>\n",
       "    </tr>\n",
       "    <tr>\n",
       "      <th>3</th>\n",
       "      <td>uzbekistan</td>\n",
       "      <td>36.36</td>\n",
       "      <td>448900</td>\n",
       "    </tr>\n",
       "  </tbody>\n",
       "</table>\n",
       "</div>"
      ],
      "text/plain": [
       "      country  population    square\n",
       "0  Kazakhstan       17.04   2724902\n",
       "1      Russia      143.50  17125191\n",
       "2     Belarus        9.50    207600\n",
       "3  uzbekistan       36.36    448900"
      ]
     },
     "execution_count": 156,
     "metadata": {},
     "output_type": "execute_result"
    }
   ],
   "source": [
    "# Создание DataFrame\n",
    "df = pd.DataFrame({\n",
    "    'country': ['Kazakhstan', 'Russia', 'Belarus', 'uzbekistan'],\n",
    "    'population': [17.04, 143.5, 9.5, 36.36],\n",
    "    'square': [2724902, 17125191, 207600, 448900]\n",
    "})\n",
    "\n",
    "df"
   ]
  },
  {
   "cell_type": "code",
   "execution_count": 157,
   "id": "a9acde29-538f-4e6b-b186-1d9baac96b0b",
   "metadata": {},
   "outputs": [
    {
     "data": {
      "text/plain": [
       "0     17.04\n",
       "1    143.50\n",
       "2      9.50\n",
       "3     36.36\n",
       "Name: population, dtype: float64"
      ]
     },
     "execution_count": 157,
     "metadata": {},
     "output_type": "execute_result"
    }
   ],
   "source": [
    "# Обращение по столбцу (Series)\n",
    "df.population"
   ]
  },
  {
   "cell_type": "code",
   "execution_count": 158,
   "id": "ea16dd2f-016a-49c6-9f82-c3a40d532c30",
   "metadata": {},
   "outputs": [
    {
     "data": {
      "text/plain": [
       "pandas.core.series.Series"
      ]
     },
     "execution_count": 158,
     "metadata": {},
     "output_type": "execute_result"
    }
   ],
   "source": [
    "type(df.population)"
   ]
  },
  {
   "cell_type": "code",
   "execution_count": 159,
   "id": "c640d944-f839-4a22-8ec6-4606299670a2",
   "metadata": {},
   "outputs": [
    {
     "data": {
      "text/html": [
       "<div>\n",
       "<style scoped>\n",
       "    .dataframe tbody tr th:only-of-type {\n",
       "        vertical-align: middle;\n",
       "    }\n",
       "\n",
       "    .dataframe tbody tr th {\n",
       "        vertical-align: top;\n",
       "    }\n",
       "\n",
       "    .dataframe thead th {\n",
       "        text-align: right;\n",
       "    }\n",
       "</style>\n",
       "<table border=\"1\" class=\"dataframe\">\n",
       "  <thead>\n",
       "    <tr style=\"text-align: right;\">\n",
       "      <th></th>\n",
       "      <th>country</th>\n",
       "      <th>population</th>\n",
       "      <th>square</th>\n",
       "    </tr>\n",
       "  </thead>\n",
       "  <tbody>\n",
       "    <tr>\n",
       "      <th>KZ</th>\n",
       "      <td>Kazakhstan</td>\n",
       "      <td>17.04</td>\n",
       "      <td>2724902</td>\n",
       "    </tr>\n",
       "    <tr>\n",
       "      <th>RU</th>\n",
       "      <td>Russia</td>\n",
       "      <td>143.50</td>\n",
       "      <td>17125191</td>\n",
       "    </tr>\n",
       "    <tr>\n",
       "      <th>BY</th>\n",
       "      <td>Belarus</td>\n",
       "      <td>9.50</td>\n",
       "      <td>207600</td>\n",
       "    </tr>\n",
       "    <tr>\n",
       "      <th>UZ</th>\n",
       "      <td>uzbekistan</td>\n",
       "      <td>36.36</td>\n",
       "      <td>448900</td>\n",
       "    </tr>\n",
       "  </tbody>\n",
       "</table>\n",
       "</div>"
      ],
      "text/plain": [
       "       country  population    square\n",
       "KZ  Kazakhstan       17.04   2724902\n",
       "RU      Russia      143.50  17125191\n",
       "BY     Belarus        9.50    207600\n",
       "UZ  uzbekistan       36.36    448900"
      ]
     },
     "execution_count": 159,
     "metadata": {},
     "output_type": "execute_result"
    }
   ],
   "source": [
    "# Присвоить каждому индексу название\n",
    "df.index = ['KZ', 'RU', 'BY', 'UZ']\n",
    "df"
   ]
  },
  {
   "cell_type": "markdown",
   "id": "9df31a97-ce71-49b4-9ba7-d28005a7b069",
   "metadata": {},
   "source": [
    "<div align=\"center\">\n",
    "\n",
    "# Pandas DataFrame\n",
    "\n",
    "</div>\n",
    "\n",
    "---\n",
    "**Pandas** это не только табличка в которой хранятся данные, она объединяет в себе два питоновских принципа, во первых можно сказать что pandas это некий словарик, где под каждым ключом (колонки) хранятся нужные нам данные. Во-вторых есть возможность прям из коробки произовдить математические-аналитические преобразования, например посчитать медиану, среднее или даже более сложное что-то.\n",
    "\n",
    "---"
   ]
  },
  {
   "cell_type": "code",
   "execution_count": 160,
   "id": "8f47164e-8168-4c72-aa0a-68584845abda",
   "metadata": {},
   "outputs": [],
   "source": [
    "# Загрузка Excel файла с данными\n",
    "retail = pd.read_excel(\"online+retail.xlsx\")"
   ]
  },
  {
   "cell_type": "code",
   "execution_count": 161,
   "id": "fd52f28c-9ea1-4574-837e-51e0d61da6f4",
   "metadata": {},
   "outputs": [
    {
     "data": {
      "text/html": [
       "<div>\n",
       "<style scoped>\n",
       "    .dataframe tbody tr th:only-of-type {\n",
       "        vertical-align: middle;\n",
       "    }\n",
       "\n",
       "    .dataframe tbody tr th {\n",
       "        vertical-align: top;\n",
       "    }\n",
       "\n",
       "    .dataframe thead th {\n",
       "        text-align: right;\n",
       "    }\n",
       "</style>\n",
       "<table border=\"1\" class=\"dataframe\">\n",
       "  <thead>\n",
       "    <tr style=\"text-align: right;\">\n",
       "      <th></th>\n",
       "      <th>InvoiceNo</th>\n",
       "      <th>StockCode</th>\n",
       "      <th>Description</th>\n",
       "      <th>Quantity</th>\n",
       "      <th>InvoiceDate</th>\n",
       "      <th>UnitPrice</th>\n",
       "      <th>CustomerID</th>\n",
       "      <th>Country</th>\n",
       "    </tr>\n",
       "  </thead>\n",
       "  <tbody>\n",
       "    <tr>\n",
       "      <th>0</th>\n",
       "      <td>536365</td>\n",
       "      <td>85123A</td>\n",
       "      <td>WHITE HANGING HEART T-LIGHT HOLDER</td>\n",
       "      <td>6</td>\n",
       "      <td>2010-12-01 08:26:00</td>\n",
       "      <td>2.55</td>\n",
       "      <td>17850.0</td>\n",
       "      <td>United Kingdom</td>\n",
       "    </tr>\n",
       "    <tr>\n",
       "      <th>1</th>\n",
       "      <td>536365</td>\n",
       "      <td>71053</td>\n",
       "      <td>WHITE METAL LANTERN</td>\n",
       "      <td>6</td>\n",
       "      <td>2010-12-01 08:26:00</td>\n",
       "      <td>3.39</td>\n",
       "      <td>17850.0</td>\n",
       "      <td>United Kingdom</td>\n",
       "    </tr>\n",
       "    <tr>\n",
       "      <th>2</th>\n",
       "      <td>536365</td>\n",
       "      <td>84406B</td>\n",
       "      <td>CREAM CUPID HEARTS COAT HANGER</td>\n",
       "      <td>8</td>\n",
       "      <td>2010-12-01 08:26:00</td>\n",
       "      <td>2.75</td>\n",
       "      <td>17850.0</td>\n",
       "      <td>United Kingdom</td>\n",
       "    </tr>\n",
       "    <tr>\n",
       "      <th>3</th>\n",
       "      <td>536365</td>\n",
       "      <td>84029G</td>\n",
       "      <td>KNITTED UNION FLAG HOT WATER BOTTLE</td>\n",
       "      <td>6</td>\n",
       "      <td>2010-12-01 08:26:00</td>\n",
       "      <td>3.39</td>\n",
       "      <td>17850.0</td>\n",
       "      <td>United Kingdom</td>\n",
       "    </tr>\n",
       "    <tr>\n",
       "      <th>4</th>\n",
       "      <td>536365</td>\n",
       "      <td>84029E</td>\n",
       "      <td>RED WOOLLY HOTTIE WHITE HEART.</td>\n",
       "      <td>6</td>\n",
       "      <td>2010-12-01 08:26:00</td>\n",
       "      <td>3.39</td>\n",
       "      <td>17850.0</td>\n",
       "      <td>United Kingdom</td>\n",
       "    </tr>\n",
       "  </tbody>\n",
       "</table>\n",
       "</div>"
      ],
      "text/plain": [
       "  InvoiceNo StockCode                          Description  Quantity  \\\n",
       "0    536365    85123A   WHITE HANGING HEART T-LIGHT HOLDER         6   \n",
       "1    536365     71053                  WHITE METAL LANTERN         6   \n",
       "2    536365    84406B       CREAM CUPID HEARTS COAT HANGER         8   \n",
       "3    536365    84029G  KNITTED UNION FLAG HOT WATER BOTTLE         6   \n",
       "4    536365    84029E       RED WOOLLY HOTTIE WHITE HEART.         6   \n",
       "\n",
       "          InvoiceDate  UnitPrice  CustomerID         Country  \n",
       "0 2010-12-01 08:26:00       2.55     17850.0  United Kingdom  \n",
       "1 2010-12-01 08:26:00       3.39     17850.0  United Kingdom  \n",
       "2 2010-12-01 08:26:00       2.75     17850.0  United Kingdom  \n",
       "3 2010-12-01 08:26:00       3.39     17850.0  United Kingdom  \n",
       "4 2010-12-01 08:26:00       3.39     17850.0  United Kingdom  "
      ]
     },
     "execution_count": 161,
     "metadata": {},
     "output_type": "execute_result"
    }
   ],
   "source": [
    "# Прочитать первые данные\n",
    "retail.head()"
   ]
  },
  {
   "cell_type": "code",
   "execution_count": 162,
   "id": "4dd25f67-b576-47d2-9d4f-82f7ce095e66",
   "metadata": {},
   "outputs": [
    {
     "data": {
      "text/html": [
       "<div>\n",
       "<style scoped>\n",
       "    .dataframe tbody tr th:only-of-type {\n",
       "        vertical-align: middle;\n",
       "    }\n",
       "\n",
       "    .dataframe tbody tr th {\n",
       "        vertical-align: top;\n",
       "    }\n",
       "\n",
       "    .dataframe thead th {\n",
       "        text-align: right;\n",
       "    }\n",
       "</style>\n",
       "<table border=\"1\" class=\"dataframe\">\n",
       "  <thead>\n",
       "    <tr style=\"text-align: right;\">\n",
       "      <th></th>\n",
       "      <th>InvoiceNo</th>\n",
       "      <th>StockCode</th>\n",
       "      <th>Description</th>\n",
       "      <th>Quantity</th>\n",
       "      <th>InvoiceDate</th>\n",
       "      <th>UnitPrice</th>\n",
       "      <th>CustomerID</th>\n",
       "      <th>Country</th>\n",
       "    </tr>\n",
       "  </thead>\n",
       "  <tbody>\n",
       "    <tr>\n",
       "      <th>541904</th>\n",
       "      <td>581587</td>\n",
       "      <td>22613</td>\n",
       "      <td>PACK OF 20 SPACEBOY NAPKINS</td>\n",
       "      <td>12</td>\n",
       "      <td>2011-12-09 12:50:00</td>\n",
       "      <td>0.85</td>\n",
       "      <td>12680.0</td>\n",
       "      <td>France</td>\n",
       "    </tr>\n",
       "    <tr>\n",
       "      <th>541905</th>\n",
       "      <td>581587</td>\n",
       "      <td>22899</td>\n",
       "      <td>CHILDREN'S APRON DOLLY GIRL</td>\n",
       "      <td>6</td>\n",
       "      <td>2011-12-09 12:50:00</td>\n",
       "      <td>2.10</td>\n",
       "      <td>12680.0</td>\n",
       "      <td>France</td>\n",
       "    </tr>\n",
       "    <tr>\n",
       "      <th>541906</th>\n",
       "      <td>581587</td>\n",
       "      <td>23254</td>\n",
       "      <td>CHILDRENS CUTLERY DOLLY GIRL</td>\n",
       "      <td>4</td>\n",
       "      <td>2011-12-09 12:50:00</td>\n",
       "      <td>4.15</td>\n",
       "      <td>12680.0</td>\n",
       "      <td>France</td>\n",
       "    </tr>\n",
       "    <tr>\n",
       "      <th>541907</th>\n",
       "      <td>581587</td>\n",
       "      <td>23255</td>\n",
       "      <td>CHILDRENS CUTLERY CIRCUS PARADE</td>\n",
       "      <td>4</td>\n",
       "      <td>2011-12-09 12:50:00</td>\n",
       "      <td>4.15</td>\n",
       "      <td>12680.0</td>\n",
       "      <td>France</td>\n",
       "    </tr>\n",
       "    <tr>\n",
       "      <th>541908</th>\n",
       "      <td>581587</td>\n",
       "      <td>22138</td>\n",
       "      <td>BAKING SET 9 PIECE RETROSPOT</td>\n",
       "      <td>3</td>\n",
       "      <td>2011-12-09 12:50:00</td>\n",
       "      <td>4.95</td>\n",
       "      <td>12680.0</td>\n",
       "      <td>France</td>\n",
       "    </tr>\n",
       "  </tbody>\n",
       "</table>\n",
       "</div>"
      ],
      "text/plain": [
       "       InvoiceNo StockCode                      Description  Quantity  \\\n",
       "541904    581587     22613      PACK OF 20 SPACEBOY NAPKINS        12   \n",
       "541905    581587     22899     CHILDREN'S APRON DOLLY GIRL          6   \n",
       "541906    581587     23254    CHILDRENS CUTLERY DOLLY GIRL          4   \n",
       "541907    581587     23255  CHILDRENS CUTLERY CIRCUS PARADE         4   \n",
       "541908    581587     22138    BAKING SET 9 PIECE RETROSPOT          3   \n",
       "\n",
       "               InvoiceDate  UnitPrice  CustomerID Country  \n",
       "541904 2011-12-09 12:50:00       0.85     12680.0  France  \n",
       "541905 2011-12-09 12:50:00       2.10     12680.0  France  \n",
       "541906 2011-12-09 12:50:00       4.15     12680.0  France  \n",
       "541907 2011-12-09 12:50:00       4.15     12680.0  France  \n",
       "541908 2011-12-09 12:50:00       4.95     12680.0  France  "
      ]
     },
     "execution_count": 162,
     "metadata": {},
     "output_type": "execute_result"
    }
   ],
   "source": [
    "# Прочитать последние данные\n",
    "retail.tail()"
   ]
  },
  {
   "cell_type": "code",
   "execution_count": 163,
   "id": "3c2f93c9-0c4d-475f-ac0b-a4f6a2b5b69c",
   "metadata": {},
   "outputs": [
    {
     "data": {
      "text/plain": [
       "0         85123A\n",
       "1          71053\n",
       "2         84406B\n",
       "3         84029G\n",
       "4         84029E\n",
       "           ...  \n",
       "541904     22613\n",
       "541905     22899\n",
       "541906     23254\n",
       "541907     23255\n",
       "541908     22138\n",
       "Name: StockCode, Length: 541909, dtype: object"
      ]
     },
     "execution_count": 163,
     "metadata": {},
     "output_type": "execute_result"
    }
   ],
   "source": [
    "# Вывод колонки через сохраненную переменную DataFrame\n",
    "retail['StockCode']"
   ]
  },
  {
   "cell_type": "code",
   "execution_count": 164,
   "id": "2c49110e-3148-4009-89d2-be3aa022d3fb",
   "metadata": {},
   "outputs": [
    {
     "data": {
      "text/plain": [
       "np.int64(5176450)"
      ]
     },
     "execution_count": 164,
     "metadata": {},
     "output_type": "execute_result"
    }
   ],
   "source": [
    "# Можно выполнить операцию с колонкой-(ами)\n",
    "retail['Quantity'].sum()"
   ]
  },
  {
   "cell_type": "code",
   "execution_count": 165,
   "id": "547bfd7d-74ec-4aa2-8717-57beb945552f",
   "metadata": {},
   "outputs": [
    {
     "data": {
      "text/plain": [
       "(541909, 8)"
      ]
     },
     "execution_count": 165,
     "metadata": {},
     "output_type": "execute_result"
    }
   ],
   "source": [
    "# Можно посмотреть размерность таблицы (строки, столбцы)\n",
    "retail.shape"
   ]
  },
  {
   "cell_type": "code",
   "execution_count": 166,
   "id": "494dbec2-ed8e-4d66-8538-e3c7e6dae0f2",
   "metadata": {},
   "outputs": [
    {
     "data": {
      "text/plain": [
       "InvoiceNo              object\n",
       "StockCode              object\n",
       "Description            object\n",
       "Quantity                int64\n",
       "InvoiceDate    datetime64[ns]\n",
       "UnitPrice             float64\n",
       "CustomerID            float64\n",
       "Country                object\n",
       "dtype: object"
      ]
     },
     "execution_count": 166,
     "metadata": {},
     "output_type": "execute_result"
    }
   ],
   "source": [
    "# Можно посмотреть тип данных \n",
    "retail.dtypes"
   ]
  },
  {
   "cell_type": "markdown",
   "id": "520f0abf-e1f5-4b0e-9a22-5f93589696b0",
   "metadata": {},
   "source": [
    "---\n",
    "\n",
    "`Object` в **Pandas** это что-то типо строки\n",
    "\n",
    "---\n",
    "\n",
    "<div align=\"center\">\n",
    "\n",
    "# Исследование данных\n",
    "\n",
    "</div>"
   ]
  },
  {
   "cell_type": "code",
   "execution_count": 167,
   "id": "38ff2dd5-0027-4f0b-b13e-e6de3cd3a0cb",
   "metadata": {},
   "outputs": [
    {
     "data": {
      "text/html": [
       "<div>\n",
       "<style scoped>\n",
       "    .dataframe tbody tr th:only-of-type {\n",
       "        vertical-align: middle;\n",
       "    }\n",
       "\n",
       "    .dataframe tbody tr th {\n",
       "        vertical-align: top;\n",
       "    }\n",
       "\n",
       "    .dataframe thead th {\n",
       "        text-align: right;\n",
       "    }\n",
       "</style>\n",
       "<table border=\"1\" class=\"dataframe\">\n",
       "  <thead>\n",
       "    <tr style=\"text-align: right;\">\n",
       "      <th></th>\n",
       "      <th>Quantity</th>\n",
       "      <th>InvoiceDate</th>\n",
       "      <th>UnitPrice</th>\n",
       "      <th>CustomerID</th>\n",
       "    </tr>\n",
       "  </thead>\n",
       "  <tbody>\n",
       "    <tr>\n",
       "      <th>count</th>\n",
       "      <td>541909.000000</td>\n",
       "      <td>541909</td>\n",
       "      <td>541909.000000</td>\n",
       "      <td>406829.000000</td>\n",
       "    </tr>\n",
       "    <tr>\n",
       "      <th>mean</th>\n",
       "      <td>9.552250</td>\n",
       "      <td>2011-07-04 13:34:57.156386048</td>\n",
       "      <td>4.611114</td>\n",
       "      <td>15287.690570</td>\n",
       "    </tr>\n",
       "    <tr>\n",
       "      <th>min</th>\n",
       "      <td>-80995.000000</td>\n",
       "      <td>2010-12-01 08:26:00</td>\n",
       "      <td>-11062.060000</td>\n",
       "      <td>12346.000000</td>\n",
       "    </tr>\n",
       "    <tr>\n",
       "      <th>25%</th>\n",
       "      <td>1.000000</td>\n",
       "      <td>2011-03-28 11:34:00</td>\n",
       "      <td>1.250000</td>\n",
       "      <td>13953.000000</td>\n",
       "    </tr>\n",
       "    <tr>\n",
       "      <th>50%</th>\n",
       "      <td>3.000000</td>\n",
       "      <td>2011-07-19 17:17:00</td>\n",
       "      <td>2.080000</td>\n",
       "      <td>15152.000000</td>\n",
       "    </tr>\n",
       "    <tr>\n",
       "      <th>75%</th>\n",
       "      <td>10.000000</td>\n",
       "      <td>2011-10-19 11:27:00</td>\n",
       "      <td>4.130000</td>\n",
       "      <td>16791.000000</td>\n",
       "    </tr>\n",
       "    <tr>\n",
       "      <th>max</th>\n",
       "      <td>80995.000000</td>\n",
       "      <td>2011-12-09 12:50:00</td>\n",
       "      <td>38970.000000</td>\n",
       "      <td>18287.000000</td>\n",
       "    </tr>\n",
       "    <tr>\n",
       "      <th>std</th>\n",
       "      <td>218.081158</td>\n",
       "      <td>NaN</td>\n",
       "      <td>96.759853</td>\n",
       "      <td>1713.600303</td>\n",
       "    </tr>\n",
       "  </tbody>\n",
       "</table>\n",
       "</div>"
      ],
      "text/plain": [
       "            Quantity                    InvoiceDate      UnitPrice  \\\n",
       "count  541909.000000                         541909  541909.000000   \n",
       "mean        9.552250  2011-07-04 13:34:57.156386048       4.611114   \n",
       "min    -80995.000000            2010-12-01 08:26:00  -11062.060000   \n",
       "25%         1.000000            2011-03-28 11:34:00       1.250000   \n",
       "50%         3.000000            2011-07-19 17:17:00       2.080000   \n",
       "75%        10.000000            2011-10-19 11:27:00       4.130000   \n",
       "max     80995.000000            2011-12-09 12:50:00   38970.000000   \n",
       "std       218.081158                            NaN      96.759853   \n",
       "\n",
       "          CustomerID  \n",
       "count  406829.000000  \n",
       "mean    15287.690570  \n",
       "min     12346.000000  \n",
       "25%     13953.000000  \n",
       "50%     15152.000000  \n",
       "75%     16791.000000  \n",
       "max     18287.000000  \n",
       "std      1713.600303  "
      ]
     },
     "execution_count": 167,
     "metadata": {},
     "output_type": "execute_result"
    }
   ],
   "source": [
    "# Метод описания числовых переменных\n",
    "retail.describe()"
   ]
  },
  {
   "cell_type": "code",
   "execution_count": 168,
   "id": "808fe0a8-fa9c-4b31-b3af-d0c00abd8557",
   "metadata": {},
   "outputs": [
    {
     "data": {
      "text/html": [
       "<div>\n",
       "<style scoped>\n",
       "    .dataframe tbody tr th:only-of-type {\n",
       "        vertical-align: middle;\n",
       "    }\n",
       "\n",
       "    .dataframe tbody tr th {\n",
       "        vertical-align: top;\n",
       "    }\n",
       "\n",
       "    .dataframe thead th {\n",
       "        text-align: right;\n",
       "    }\n",
       "</style>\n",
       "<table border=\"1\" class=\"dataframe\">\n",
       "  <thead>\n",
       "    <tr style=\"text-align: right;\">\n",
       "      <th></th>\n",
       "      <th>InvoiceNo</th>\n",
       "      <th>StockCode</th>\n",
       "      <th>Description</th>\n",
       "      <th>Quantity</th>\n",
       "      <th>InvoiceDate</th>\n",
       "      <th>UnitPrice</th>\n",
       "      <th>CustomerID</th>\n",
       "      <th>Country</th>\n",
       "    </tr>\n",
       "  </thead>\n",
       "  <tbody>\n",
       "    <tr>\n",
       "      <th>299983</th>\n",
       "      <td>A563186</td>\n",
       "      <td>B</td>\n",
       "      <td>Adjust bad debt</td>\n",
       "      <td>1</td>\n",
       "      <td>2011-08-12 14:51:00</td>\n",
       "      <td>-11062.06</td>\n",
       "      <td>NaN</td>\n",
       "      <td>United Kingdom</td>\n",
       "    </tr>\n",
       "    <tr>\n",
       "      <th>299984</th>\n",
       "      <td>A563187</td>\n",
       "      <td>B</td>\n",
       "      <td>Adjust bad debt</td>\n",
       "      <td>1</td>\n",
       "      <td>2011-08-12 14:52:00</td>\n",
       "      <td>-11062.06</td>\n",
       "      <td>NaN</td>\n",
       "      <td>United Kingdom</td>\n",
       "    </tr>\n",
       "  </tbody>\n",
       "</table>\n",
       "</div>"
      ],
      "text/plain": [
       "       InvoiceNo StockCode      Description  Quantity         InvoiceDate  \\\n",
       "299983   A563186         B  Adjust bad debt         1 2011-08-12 14:51:00   \n",
       "299984   A563187         B  Adjust bad debt         1 2011-08-12 14:52:00   \n",
       "\n",
       "        UnitPrice  CustomerID         Country  \n",
       "299983  -11062.06         NaN  United Kingdom  \n",
       "299984  -11062.06         NaN  United Kingdom  "
      ]
     },
     "execution_count": 168,
     "metadata": {},
     "output_type": "execute_result"
    }
   ],
   "source": [
    "# Просмотр отрицательных значений\n",
    "retail[retail.UnitPrice < 0]"
   ]
  },
  {
   "cell_type": "code",
   "execution_count": 169,
   "id": "86fce256-73bf-479f-8c25-418ee398d392",
   "metadata": {},
   "outputs": [
    {
     "data": {
      "text/html": [
       "<div>\n",
       "<style scoped>\n",
       "    .dataframe tbody tr th:only-of-type {\n",
       "        vertical-align: middle;\n",
       "    }\n",
       "\n",
       "    .dataframe tbody tr th {\n",
       "        vertical-align: top;\n",
       "    }\n",
       "\n",
       "    .dataframe thead th {\n",
       "        text-align: right;\n",
       "    }\n",
       "</style>\n",
       "<table border=\"1\" class=\"dataframe\">\n",
       "  <thead>\n",
       "    <tr style=\"text-align: right;\">\n",
       "      <th></th>\n",
       "      <th>InvoiceNo</th>\n",
       "      <th>StockCode</th>\n",
       "      <th>Description</th>\n",
       "      <th>Quantity</th>\n",
       "      <th>InvoiceDate</th>\n",
       "      <th>UnitPrice</th>\n",
       "      <th>CustomerID</th>\n",
       "      <th>Country</th>\n",
       "    </tr>\n",
       "  </thead>\n",
       "  <tbody>\n",
       "    <tr>\n",
       "      <th>622</th>\n",
       "      <td>536414</td>\n",
       "      <td>22139</td>\n",
       "      <td>NaN</td>\n",
       "      <td>56</td>\n",
       "      <td>2010-12-01 11:52:00</td>\n",
       "      <td>0.00</td>\n",
       "      <td>NaN</td>\n",
       "      <td>United Kingdom</td>\n",
       "    </tr>\n",
       "    <tr>\n",
       "      <th>1443</th>\n",
       "      <td>536544</td>\n",
       "      <td>21773</td>\n",
       "      <td>DECORATIVE ROSE BATHROOM BOTTLE</td>\n",
       "      <td>1</td>\n",
       "      <td>2010-12-01 14:32:00</td>\n",
       "      <td>2.51</td>\n",
       "      <td>NaN</td>\n",
       "      <td>United Kingdom</td>\n",
       "    </tr>\n",
       "    <tr>\n",
       "      <th>1444</th>\n",
       "      <td>536544</td>\n",
       "      <td>21774</td>\n",
       "      <td>DECORATIVE CATS BATHROOM BOTTLE</td>\n",
       "      <td>2</td>\n",
       "      <td>2010-12-01 14:32:00</td>\n",
       "      <td>2.51</td>\n",
       "      <td>NaN</td>\n",
       "      <td>United Kingdom</td>\n",
       "    </tr>\n",
       "    <tr>\n",
       "      <th>1445</th>\n",
       "      <td>536544</td>\n",
       "      <td>21786</td>\n",
       "      <td>POLKADOT RAIN HAT</td>\n",
       "      <td>4</td>\n",
       "      <td>2010-12-01 14:32:00</td>\n",
       "      <td>0.85</td>\n",
       "      <td>NaN</td>\n",
       "      <td>United Kingdom</td>\n",
       "    </tr>\n",
       "    <tr>\n",
       "      <th>1446</th>\n",
       "      <td>536544</td>\n",
       "      <td>21787</td>\n",
       "      <td>RAIN PONCHO RETROSPOT</td>\n",
       "      <td>2</td>\n",
       "      <td>2010-12-01 14:32:00</td>\n",
       "      <td>1.66</td>\n",
       "      <td>NaN</td>\n",
       "      <td>United Kingdom</td>\n",
       "    </tr>\n",
       "    <tr>\n",
       "      <th>...</th>\n",
       "      <td>...</td>\n",
       "      <td>...</td>\n",
       "      <td>...</td>\n",
       "      <td>...</td>\n",
       "      <td>...</td>\n",
       "      <td>...</td>\n",
       "      <td>...</td>\n",
       "      <td>...</td>\n",
       "    </tr>\n",
       "    <tr>\n",
       "      <th>541536</th>\n",
       "      <td>581498</td>\n",
       "      <td>85099B</td>\n",
       "      <td>JUMBO BAG RED RETROSPOT</td>\n",
       "      <td>5</td>\n",
       "      <td>2011-12-09 10:26:00</td>\n",
       "      <td>4.13</td>\n",
       "      <td>NaN</td>\n",
       "      <td>United Kingdom</td>\n",
       "    </tr>\n",
       "    <tr>\n",
       "      <th>541537</th>\n",
       "      <td>581498</td>\n",
       "      <td>85099C</td>\n",
       "      <td>JUMBO  BAG BAROQUE BLACK WHITE</td>\n",
       "      <td>4</td>\n",
       "      <td>2011-12-09 10:26:00</td>\n",
       "      <td>4.13</td>\n",
       "      <td>NaN</td>\n",
       "      <td>United Kingdom</td>\n",
       "    </tr>\n",
       "    <tr>\n",
       "      <th>541538</th>\n",
       "      <td>581498</td>\n",
       "      <td>85150</td>\n",
       "      <td>LADIES &amp; GENTLEMEN METAL SIGN</td>\n",
       "      <td>1</td>\n",
       "      <td>2011-12-09 10:26:00</td>\n",
       "      <td>4.96</td>\n",
       "      <td>NaN</td>\n",
       "      <td>United Kingdom</td>\n",
       "    </tr>\n",
       "    <tr>\n",
       "      <th>541539</th>\n",
       "      <td>581498</td>\n",
       "      <td>85174</td>\n",
       "      <td>S/4 CACTI CANDLES</td>\n",
       "      <td>1</td>\n",
       "      <td>2011-12-09 10:26:00</td>\n",
       "      <td>10.79</td>\n",
       "      <td>NaN</td>\n",
       "      <td>United Kingdom</td>\n",
       "    </tr>\n",
       "    <tr>\n",
       "      <th>541540</th>\n",
       "      <td>581498</td>\n",
       "      <td>DOT</td>\n",
       "      <td>DOTCOM POSTAGE</td>\n",
       "      <td>1</td>\n",
       "      <td>2011-12-09 10:26:00</td>\n",
       "      <td>1714.17</td>\n",
       "      <td>NaN</td>\n",
       "      <td>United Kingdom</td>\n",
       "    </tr>\n",
       "  </tbody>\n",
       "</table>\n",
       "<p>135080 rows × 8 columns</p>\n",
       "</div>"
      ],
      "text/plain": [
       "       InvoiceNo StockCode                      Description  Quantity  \\\n",
       "622       536414     22139                              NaN        56   \n",
       "1443      536544     21773  DECORATIVE ROSE BATHROOM BOTTLE         1   \n",
       "1444      536544     21774  DECORATIVE CATS BATHROOM BOTTLE         2   \n",
       "1445      536544     21786               POLKADOT RAIN HAT          4   \n",
       "1446      536544     21787            RAIN PONCHO RETROSPOT         2   \n",
       "...          ...       ...                              ...       ...   \n",
       "541536    581498    85099B          JUMBO BAG RED RETROSPOT         5   \n",
       "541537    581498    85099C   JUMBO  BAG BAROQUE BLACK WHITE         4   \n",
       "541538    581498     85150    LADIES & GENTLEMEN METAL SIGN         1   \n",
       "541539    581498     85174                S/4 CACTI CANDLES         1   \n",
       "541540    581498       DOT                   DOTCOM POSTAGE         1   \n",
       "\n",
       "               InvoiceDate  UnitPrice  CustomerID         Country  \n",
       "622    2010-12-01 11:52:00       0.00         NaN  United Kingdom  \n",
       "1443   2010-12-01 14:32:00       2.51         NaN  United Kingdom  \n",
       "1444   2010-12-01 14:32:00       2.51         NaN  United Kingdom  \n",
       "1445   2010-12-01 14:32:00       0.85         NaN  United Kingdom  \n",
       "1446   2010-12-01 14:32:00       1.66         NaN  United Kingdom  \n",
       "...                    ...        ...         ...             ...  \n",
       "541536 2011-12-09 10:26:00       4.13         NaN  United Kingdom  \n",
       "541537 2011-12-09 10:26:00       4.13         NaN  United Kingdom  \n",
       "541538 2011-12-09 10:26:00       4.96         NaN  United Kingdom  \n",
       "541539 2011-12-09 10:26:00      10.79         NaN  United Kingdom  \n",
       "541540 2011-12-09 10:26:00    1714.17         NaN  United Kingdom  \n",
       "\n",
       "[135080 rows x 8 columns]"
      ]
     },
     "execution_count": 169,
     "metadata": {},
     "output_type": "execute_result"
    }
   ],
   "source": [
    "# Проверка на пропущенные значения\n",
    "retail[retail.CustomerID.isna()]"
   ]
  },
  {
   "cell_type": "code",
   "execution_count": 170,
   "id": "aff9eb95-2584-4678-b17c-43069a71883f",
   "metadata": {},
   "outputs": [
    {
     "data": {
      "text/html": [
       "<div>\n",
       "<style scoped>\n",
       "    .dataframe tbody tr th:only-of-type {\n",
       "        vertical-align: middle;\n",
       "    }\n",
       "\n",
       "    .dataframe tbody tr th {\n",
       "        vertical-align: top;\n",
       "    }\n",
       "\n",
       "    .dataframe thead th {\n",
       "        text-align: right;\n",
       "    }\n",
       "</style>\n",
       "<table border=\"1\" class=\"dataframe\">\n",
       "  <thead>\n",
       "    <tr style=\"text-align: right;\">\n",
       "      <th></th>\n",
       "      <th>InvoiceNo</th>\n",
       "      <th>StockCode</th>\n",
       "      <th>Description</th>\n",
       "      <th>Quantity</th>\n",
       "      <th>InvoiceDate</th>\n",
       "      <th>UnitPrice</th>\n",
       "      <th>CustomerID</th>\n",
       "      <th>Country</th>\n",
       "    </tr>\n",
       "  </thead>\n",
       "  <tbody>\n",
       "    <tr>\n",
       "      <th>622</th>\n",
       "      <td>536414</td>\n",
       "      <td>22139</td>\n",
       "      <td>NaN</td>\n",
       "      <td>56</td>\n",
       "      <td>2010-12-01 11:52:00</td>\n",
       "      <td>0.00</td>\n",
       "      <td>0.0</td>\n",
       "      <td>United Kingdom</td>\n",
       "    </tr>\n",
       "    <tr>\n",
       "      <th>1443</th>\n",
       "      <td>536544</td>\n",
       "      <td>21773</td>\n",
       "      <td>DECORATIVE ROSE BATHROOM BOTTLE</td>\n",
       "      <td>1</td>\n",
       "      <td>2010-12-01 14:32:00</td>\n",
       "      <td>2.51</td>\n",
       "      <td>0.0</td>\n",
       "      <td>United Kingdom</td>\n",
       "    </tr>\n",
       "    <tr>\n",
       "      <th>1444</th>\n",
       "      <td>536544</td>\n",
       "      <td>21774</td>\n",
       "      <td>DECORATIVE CATS BATHROOM BOTTLE</td>\n",
       "      <td>2</td>\n",
       "      <td>2010-12-01 14:32:00</td>\n",
       "      <td>2.51</td>\n",
       "      <td>0.0</td>\n",
       "      <td>United Kingdom</td>\n",
       "    </tr>\n",
       "    <tr>\n",
       "      <th>1445</th>\n",
       "      <td>536544</td>\n",
       "      <td>21786</td>\n",
       "      <td>POLKADOT RAIN HAT</td>\n",
       "      <td>4</td>\n",
       "      <td>2010-12-01 14:32:00</td>\n",
       "      <td>0.85</td>\n",
       "      <td>0.0</td>\n",
       "      <td>United Kingdom</td>\n",
       "    </tr>\n",
       "    <tr>\n",
       "      <th>1446</th>\n",
       "      <td>536544</td>\n",
       "      <td>21787</td>\n",
       "      <td>RAIN PONCHO RETROSPOT</td>\n",
       "      <td>2</td>\n",
       "      <td>2010-12-01 14:32:00</td>\n",
       "      <td>1.66</td>\n",
       "      <td>0.0</td>\n",
       "      <td>United Kingdom</td>\n",
       "    </tr>\n",
       "    <tr>\n",
       "      <th>...</th>\n",
       "      <td>...</td>\n",
       "      <td>...</td>\n",
       "      <td>...</td>\n",
       "      <td>...</td>\n",
       "      <td>...</td>\n",
       "      <td>...</td>\n",
       "      <td>...</td>\n",
       "      <td>...</td>\n",
       "    </tr>\n",
       "    <tr>\n",
       "      <th>541536</th>\n",
       "      <td>581498</td>\n",
       "      <td>85099B</td>\n",
       "      <td>JUMBO BAG RED RETROSPOT</td>\n",
       "      <td>5</td>\n",
       "      <td>2011-12-09 10:26:00</td>\n",
       "      <td>4.13</td>\n",
       "      <td>0.0</td>\n",
       "      <td>United Kingdom</td>\n",
       "    </tr>\n",
       "    <tr>\n",
       "      <th>541537</th>\n",
       "      <td>581498</td>\n",
       "      <td>85099C</td>\n",
       "      <td>JUMBO  BAG BAROQUE BLACK WHITE</td>\n",
       "      <td>4</td>\n",
       "      <td>2011-12-09 10:26:00</td>\n",
       "      <td>4.13</td>\n",
       "      <td>0.0</td>\n",
       "      <td>United Kingdom</td>\n",
       "    </tr>\n",
       "    <tr>\n",
       "      <th>541538</th>\n",
       "      <td>581498</td>\n",
       "      <td>85150</td>\n",
       "      <td>LADIES &amp; GENTLEMEN METAL SIGN</td>\n",
       "      <td>1</td>\n",
       "      <td>2011-12-09 10:26:00</td>\n",
       "      <td>4.96</td>\n",
       "      <td>0.0</td>\n",
       "      <td>United Kingdom</td>\n",
       "    </tr>\n",
       "    <tr>\n",
       "      <th>541539</th>\n",
       "      <td>581498</td>\n",
       "      <td>85174</td>\n",
       "      <td>S/4 CACTI CANDLES</td>\n",
       "      <td>1</td>\n",
       "      <td>2011-12-09 10:26:00</td>\n",
       "      <td>10.79</td>\n",
       "      <td>0.0</td>\n",
       "      <td>United Kingdom</td>\n",
       "    </tr>\n",
       "    <tr>\n",
       "      <th>541540</th>\n",
       "      <td>581498</td>\n",
       "      <td>DOT</td>\n",
       "      <td>DOTCOM POSTAGE</td>\n",
       "      <td>1</td>\n",
       "      <td>2011-12-09 10:26:00</td>\n",
       "      <td>1714.17</td>\n",
       "      <td>0.0</td>\n",
       "      <td>United Kingdom</td>\n",
       "    </tr>\n",
       "  </tbody>\n",
       "</table>\n",
       "<p>135080 rows × 8 columns</p>\n",
       "</div>"
      ],
      "text/plain": [
       "       InvoiceNo StockCode                      Description  Quantity  \\\n",
       "622       536414     22139                              NaN        56   \n",
       "1443      536544     21773  DECORATIVE ROSE BATHROOM BOTTLE         1   \n",
       "1444      536544     21774  DECORATIVE CATS BATHROOM BOTTLE         2   \n",
       "1445      536544     21786               POLKADOT RAIN HAT          4   \n",
       "1446      536544     21787            RAIN PONCHO RETROSPOT         2   \n",
       "...          ...       ...                              ...       ...   \n",
       "541536    581498    85099B          JUMBO BAG RED RETROSPOT         5   \n",
       "541537    581498    85099C   JUMBO  BAG BAROQUE BLACK WHITE         4   \n",
       "541538    581498     85150    LADIES & GENTLEMEN METAL SIGN         1   \n",
       "541539    581498     85174                S/4 CACTI CANDLES         1   \n",
       "541540    581498       DOT                   DOTCOM POSTAGE         1   \n",
       "\n",
       "               InvoiceDate  UnitPrice  CustomerID         Country  \n",
       "622    2010-12-01 11:52:00       0.00         0.0  United Kingdom  \n",
       "1443   2010-12-01 14:32:00       2.51         0.0  United Kingdom  \n",
       "1444   2010-12-01 14:32:00       2.51         0.0  United Kingdom  \n",
       "1445   2010-12-01 14:32:00       0.85         0.0  United Kingdom  \n",
       "1446   2010-12-01 14:32:00       1.66         0.0  United Kingdom  \n",
       "...                    ...        ...         ...             ...  \n",
       "541536 2011-12-09 10:26:00       4.13         0.0  United Kingdom  \n",
       "541537 2011-12-09 10:26:00       4.13         0.0  United Kingdom  \n",
       "541538 2011-12-09 10:26:00       4.96         0.0  United Kingdom  \n",
       "541539 2011-12-09 10:26:00      10.79         0.0  United Kingdom  \n",
       "541540 2011-12-09 10:26:00    1714.17         0.0  United Kingdom  \n",
       "\n",
       "[135080 rows x 8 columns]"
      ]
     },
     "execution_count": 170,
     "metadata": {},
     "output_type": "execute_result"
    }
   ],
   "source": [
    "# Можно вместо NaN поставить 0, так как это пустые значения\n",
    "retail = retail.fillna({'CustomerID': 0})\n",
    "retail[retail.CustomerID == 0]"
   ]
  },
  {
   "cell_type": "code",
   "execution_count": 171,
   "id": "e6484acb-1229-4ae7-88d4-68bd547157bd",
   "metadata": {},
   "outputs": [
    {
     "data": {
      "text/plain": [
       "InvoiceNo       object\n",
       "StockCode       object\n",
       "Description     object\n",
       "Quantity         int64\n",
       "InvoiceDate     object\n",
       "UnitPrice      float64\n",
       "CustomerID       int64\n",
       "Country         object\n",
       "dtype: object"
      ]
     },
     "execution_count": 171,
     "metadata": {},
     "output_type": "execute_result"
    }
   ],
   "source": [
    "# Можно теперь поменять тип данных у CustomerID\n",
    "retail = retail.astype({'CustomerID': 'int'})\n",
    "# Сделаем для даты пока что object\n",
    "retail = retail.astype({'InvoiceDate': 'object'})\n",
    "retail.dtypes"
   ]
  },
  {
   "cell_type": "code",
   "execution_count": 172,
   "id": "1b3ef3fa-74ec-4307-9bf7-c3a0f2c7b58d",
   "metadata": {},
   "outputs": [],
   "source": [
    "# Уберём отмененные транзакции (отрицательные цены и Nan CustomerId)\n",
    "retail = retail.query('UnitPrice > 0')"
   ]
  },
  {
   "cell_type": "markdown",
   "id": "3a2b682d-89d7-422b-bffe-42aa9310e9b7",
   "metadata": {},
   "source": [
    "---\n",
    "\n",
    " Когда мы выполняем предобработку данных, изменения происходят не в самом файле, а в Jupyter Notebook. После всех преобразований можно сохранить получившийся DataFrame в новый файл.\n",
    "\n",
    "\n",
    "---"
   ]
  },
  {
   "cell_type": "code",
   "execution_count": 173,
   "id": "9a3be4e9-e583-4dfe-b790-434265b66738",
   "metadata": {},
   "outputs": [],
   "source": [
    "# Сохраение преобразованного DataFrame\n",
    "retail.to_csv('clean_retail_data.csv', index=False, encoding='UTF-8' )"
   ]
  },
  {
   "cell_type": "markdown",
   "id": "ab4d9a24-4a54-439a-88c0-e1b84225236f",
   "metadata": {},
   "source": [
    "---\n",
    "\n",
    "Также есть возможность сразу провести группировки, сортировки и необходимые вычисления, после чего сохранить результат в формате Excel.\n",
    "\n",
    "---"
   ]
  },
  {
   "cell_type": "code",
   "execution_count": 174,
   "id": "9390521a-80d5-4611-92f8-480cc4d4a75c",
   "metadata": {},
   "outputs": [],
   "source": [
    "# Групировка по количеству пользователей в странах\n",
    "retail.groupby('Country', as_index=False).agg({'CustomerID': 'count'}) \\\n",
    "    .sort_values('CustomerID', ascending=False).to_excel('country_users.xlsx', index=False)"
   ]
  },
  {
   "cell_type": "markdown",
   "id": "cc5d3249-f06c-4b72-9fc7-2bd54291b399",
   "metadata": {},
   "source": [
    "---\n",
    "\n",
    "Кроме того, можно рассчитать количество уникальных пользователей (с корректным CustomerID > 0), которые совершили транзакции по странам.\n",
    "\n",
    "---"
   ]
  },
  {
   "cell_type": "code",
   "execution_count": 175,
   "id": "e8ff50c4-3754-4537-9934-f36dd747791c",
   "metadata": {},
   "outputs": [
    {
     "data": {
      "text/html": [
       "<div>\n",
       "<style scoped>\n",
       "    .dataframe tbody tr th:only-of-type {\n",
       "        vertical-align: middle;\n",
       "    }\n",
       "\n",
       "    .dataframe tbody tr th {\n",
       "        vertical-align: top;\n",
       "    }\n",
       "\n",
       "    .dataframe thead th {\n",
       "        text-align: right;\n",
       "    }\n",
       "</style>\n",
       "<table border=\"1\" class=\"dataframe\">\n",
       "  <thead>\n",
       "    <tr style=\"text-align: right;\">\n",
       "      <th></th>\n",
       "      <th>Country</th>\n",
       "      <th>CustomerID</th>\n",
       "    </tr>\n",
       "  </thead>\n",
       "  <tbody>\n",
       "    <tr>\n",
       "      <th>35</th>\n",
       "      <td>United Kingdom</td>\n",
       "      <td>3949</td>\n",
       "    </tr>\n",
       "    <tr>\n",
       "      <th>14</th>\n",
       "      <td>Germany</td>\n",
       "      <td>95</td>\n",
       "    </tr>\n",
       "    <tr>\n",
       "      <th>13</th>\n",
       "      <td>France</td>\n",
       "      <td>87</td>\n",
       "    </tr>\n",
       "    <tr>\n",
       "      <th>30</th>\n",
       "      <td>Spain</td>\n",
       "      <td>31</td>\n",
       "    </tr>\n",
       "    <tr>\n",
       "      <th>3</th>\n",
       "      <td>Belgium</td>\n",
       "      <td>25</td>\n",
       "    </tr>\n",
       "  </tbody>\n",
       "</table>\n",
       "</div>"
      ],
      "text/plain": [
       "           Country  CustomerID\n",
       "35  United Kingdom        3949\n",
       "14         Germany          95\n",
       "13          France          87\n",
       "30           Spain          31\n",
       "3          Belgium          25"
      ]
     },
     "execution_count": 175,
     "metadata": {},
     "output_type": "execute_result"
    }
   ],
   "source": [
    "# Подсчет честных уникальных пользователей\n",
    "retail[retail.CustomerID > 0].groupby('Country', as_index = False) \\\n",
    "    .agg({'CustomerID': pd.Series.nunique}) \\\n",
    "    .sort_values('CustomerID', ascending = False).head()"
   ]
  },
  {
   "cell_type": "markdown",
   "id": "a42ccf7f-e84c-4490-b4c6-2d43c9abc269",
   "metadata": {},
   "source": [
    "---\n",
    "\n",
    "Также можно посчитать количество транзакций для каждого уникального пользователя в любой стране.\n",
    "\n",
    "---"
   ]
  },
  {
   "cell_type": "code",
   "execution_count": 176,
   "id": "ac58c99e-8556-4d5f-8469-bc05e16f0005",
   "metadata": {},
   "outputs": [],
   "source": [
    "# Так как InvoiceDate это object, надо преобразовать колонку\n",
    "retail['InvoiceDate'] = pd.to_datetime(retail['InvoiceDate'])"
   ]
  },
  {
   "cell_type": "code",
   "execution_count": 177,
   "id": "3b20fc8e-14a8-4846-a92b-eb5e486b23e3",
   "metadata": {},
   "outputs": [
    {
     "data": {
      "text/html": [
       "<div>\n",
       "<style scoped>\n",
       "    .dataframe tbody tr th:only-of-type {\n",
       "        vertical-align: middle;\n",
       "    }\n",
       "\n",
       "    .dataframe tbody tr th {\n",
       "        vertical-align: top;\n",
       "    }\n",
       "\n",
       "    .dataframe thead th {\n",
       "        text-align: right;\n",
       "    }\n",
       "</style>\n",
       "<table border=\"1\" class=\"dataframe\">\n",
       "  <thead>\n",
       "    <tr style=\"text-align: right;\">\n",
       "      <th></th>\n",
       "      <th>InvoiceNo</th>\n",
       "      <th>StockCode</th>\n",
       "      <th>Description</th>\n",
       "      <th>Quantity</th>\n",
       "      <th>InvoiceDate</th>\n",
       "      <th>UnitPrice</th>\n",
       "      <th>CustomerID</th>\n",
       "      <th>Country</th>\n",
       "    </tr>\n",
       "  </thead>\n",
       "  <tbody>\n",
       "    <tr>\n",
       "      <th>0</th>\n",
       "      <td>536365</td>\n",
       "      <td>85123A</td>\n",
       "      <td>WHITE HANGING HEART T-LIGHT HOLDER</td>\n",
       "      <td>6</td>\n",
       "      <td>2010-12-01 08:26:00</td>\n",
       "      <td>2.55</td>\n",
       "      <td>17850</td>\n",
       "      <td>United Kingdom</td>\n",
       "    </tr>\n",
       "    <tr>\n",
       "      <th>1</th>\n",
       "      <td>536365</td>\n",
       "      <td>71053</td>\n",
       "      <td>WHITE METAL LANTERN</td>\n",
       "      <td>6</td>\n",
       "      <td>2010-12-01 08:26:00</td>\n",
       "      <td>3.39</td>\n",
       "      <td>17850</td>\n",
       "      <td>United Kingdom</td>\n",
       "    </tr>\n",
       "    <tr>\n",
       "      <th>2</th>\n",
       "      <td>536365</td>\n",
       "      <td>84406B</td>\n",
       "      <td>CREAM CUPID HEARTS COAT HANGER</td>\n",
       "      <td>8</td>\n",
       "      <td>2010-12-01 08:26:00</td>\n",
       "      <td>2.75</td>\n",
       "      <td>17850</td>\n",
       "      <td>United Kingdom</td>\n",
       "    </tr>\n",
       "    <tr>\n",
       "      <th>3</th>\n",
       "      <td>536365</td>\n",
       "      <td>84029G</td>\n",
       "      <td>KNITTED UNION FLAG HOT WATER BOTTLE</td>\n",
       "      <td>6</td>\n",
       "      <td>2010-12-01 08:26:00</td>\n",
       "      <td>3.39</td>\n",
       "      <td>17850</td>\n",
       "      <td>United Kingdom</td>\n",
       "    </tr>\n",
       "    <tr>\n",
       "      <th>4</th>\n",
       "      <td>536365</td>\n",
       "      <td>84029E</td>\n",
       "      <td>RED WOOLLY HOTTIE WHITE HEART.</td>\n",
       "      <td>6</td>\n",
       "      <td>2010-12-01 08:26:00</td>\n",
       "      <td>3.39</td>\n",
       "      <td>17850</td>\n",
       "      <td>United Kingdom</td>\n",
       "    </tr>\n",
       "  </tbody>\n",
       "</table>\n",
       "</div>"
      ],
      "text/plain": [
       "  InvoiceNo StockCode                          Description  Quantity  \\\n",
       "0    536365    85123A   WHITE HANGING HEART T-LIGHT HOLDER         6   \n",
       "1    536365     71053                  WHITE METAL LANTERN         6   \n",
       "2    536365    84406B       CREAM CUPID HEARTS COAT HANGER         8   \n",
       "3    536365    84029G  KNITTED UNION FLAG HOT WATER BOTTLE         6   \n",
       "4    536365    84029E       RED WOOLLY HOTTIE WHITE HEART.         6   \n",
       "\n",
       "          InvoiceDate  UnitPrice  CustomerID         Country  \n",
       "0 2010-12-01 08:26:00       2.55       17850  United Kingdom  \n",
       "1 2010-12-01 08:26:00       3.39       17850  United Kingdom  \n",
       "2 2010-12-01 08:26:00       2.75       17850  United Kingdom  \n",
       "3 2010-12-01 08:26:00       3.39       17850  United Kingdom  \n",
       "4 2010-12-01 08:26:00       3.39       17850  United Kingdom  "
      ]
     },
     "execution_count": 177,
     "metadata": {},
     "output_type": "execute_result"
    }
   ],
   "source": [
    "# кол-во транзакций для каждого уникального пользователя UK\n",
    "UK_data = retail.query(\"Country == 'United Kingdom' & CustomerID > 0\")\n",
    "UK_data.head()"
   ]
  },
  {
   "cell_type": "code",
   "execution_count": 178,
   "id": "294ff72f-0056-48a3-a483-3a058384c5ef",
   "metadata": {},
   "outputs": [
    {
     "data": {
      "text/plain": [
       "np.float64(41.0)"
      ]
     },
     "execution_count": 178,
     "metadata": {},
     "output_type": "execute_result"
    }
   ],
   "source": [
    "UK_data.groupby('CustomerID', as_index=False) \\\n",
    "    .agg({'InvoiceNo': 'count'}) \\\n",
    "    .rename(columns = {'InvoiceNo': 'Transaktions'}) \\\n",
    "    .sort_values('Transaktions', ascending=False).Transaktions.median()"
   ]
  },
  {
   "cell_type": "code",
   "execution_count": 179,
   "id": "7af727a5-1d1f-4fea-ae2a-2ed71d530c05",
   "metadata": {},
   "outputs": [],
   "source": [
    "# Можно посчитать среднее транзакций на пользователя\n",
    "transactions_data = UK_data.groupby('CustomerID', as_index=False) \\\n",
    "    .agg({'InvoiceNo': 'count'}) \\\n",
    "    .rename(columns = {'InvoiceNo': 'Transactions'}) \\\n",
    "    .sort_values('Transactions', ascending=False)"
   ]
  },
  {
   "cell_type": "code",
   "execution_count": 180,
   "id": "29f9cc1a-044e-48f9-90ef-d8de9aa4479d",
   "metadata": {},
   "outputs": [
    {
     "data": {
      "text/html": [
       "<div>\n",
       "<style scoped>\n",
       "    .dataframe tbody tr th:only-of-type {\n",
       "        vertical-align: middle;\n",
       "    }\n",
       "\n",
       "    .dataframe tbody tr th {\n",
       "        vertical-align: top;\n",
       "    }\n",
       "\n",
       "    .dataframe thead th {\n",
       "        text-align: right;\n",
       "    }\n",
       "</style>\n",
       "<table border=\"1\" class=\"dataframe\">\n",
       "  <thead>\n",
       "    <tr style=\"text-align: right;\">\n",
       "      <th></th>\n",
       "      <th>CustomerID</th>\n",
       "      <th>Transactions</th>\n",
       "    </tr>\n",
       "  </thead>\n",
       "  <tbody>\n",
       "    <tr>\n",
       "      <th>3620</th>\n",
       "      <td>17841</td>\n",
       "      <td>7983</td>\n",
       "    </tr>\n",
       "    <tr>\n",
       "      <th>908</th>\n",
       "      <td>14096</td>\n",
       "      <td>5128</td>\n",
       "    </tr>\n",
       "    <tr>\n",
       "      <th>2</th>\n",
       "      <td>12748</td>\n",
       "      <td>4641</td>\n",
       "    </tr>\n",
       "    <tr>\n",
       "      <th>1275</th>\n",
       "      <td>14606</td>\n",
       "      <td>2782</td>\n",
       "    </tr>\n",
       "    <tr>\n",
       "      <th>1782</th>\n",
       "      <td>15311</td>\n",
       "      <td>2491</td>\n",
       "    </tr>\n",
       "  </tbody>\n",
       "</table>\n",
       "</div>"
      ],
      "text/plain": [
       "      CustomerID  Transactions\n",
       "3620       17841          7983\n",
       "908        14096          5128\n",
       "2          12748          4641\n",
       "1275       14606          2782\n",
       "1782       15311          2491"
      ]
     },
     "execution_count": 180,
     "metadata": {},
     "output_type": "execute_result"
    }
   ],
   "source": [
    "transactions_data.head()"
   ]
  },
  {
   "cell_type": "code",
   "execution_count": 181,
   "id": "a18a430e-8729-4c4c-bc87-77402285bbeb",
   "metadata": {},
   "outputs": [
    {
     "data": {
      "image/png": "[encoded data removed]",
      "text/plain": [
       "<Figure size 1600x600 with 1 Axes>"
      ]
     },
     "metadata": {},
     "output_type": "display_data"
    }
   ],
   "source": [
    "# Посмотрим на графике распределение транзакций\n",
    "sns.histplot(transactions_data.Transactions, kde=True)  # kde=True добавит плавную линию плотности\n",
    "plt.show()"
   ]
  },
  {
   "cell_type": "markdown",
   "id": "a58bb8cd-5822-4eb1-94ba-600d6fa9449f",
   "metadata": {},
   "source": [
    "---\n",
    "\n",
    "Как видно на графике, основная доля транзакций приходится на начало.\n",
    "\n",
    "---"
   ]
  },
  {
   "cell_type": "code",
   "execution_count": 182,
   "id": "2f9560e5-3011-49b7-8028-3682e757fc6e",
   "metadata": {},
   "outputs": [
    {
     "data": {
      "image/png": "[encoded data removed]",
      "text/plain": [
       "<Figure size 1600x600 with 1 Axes>"
      ]
     },
     "metadata": {},
     "output_type": "display_data"
    }
   ],
   "source": [
    "# Можно посмотреть на пользователей, у которых меньше 1000 тран.\n",
    "sns.histplot(transactions_data.query(\"Transactions < 1000\").Transactions, kde=False)  # kde=True добавит плавную линию плотности\n",
    "plt.show()"
   ]
  },
  {
   "cell_type": "code",
   "execution_count": 183,
   "id": "95904924-ce93-41c0-a875-72b61da30ce3",
   "metadata": {},
   "outputs": [
    {
     "data": {
      "text/html": [
       "<div>\n",
       "<style scoped>\n",
       "    .dataframe tbody tr th:only-of-type {\n",
       "        vertical-align: middle;\n",
       "    }\n",
       "\n",
       "    .dataframe tbody tr th {\n",
       "        vertical-align: top;\n",
       "    }\n",
       "\n",
       "    .dataframe thead th {\n",
       "        text-align: right;\n",
       "    }\n",
       "</style>\n",
       "<table border=\"1\" class=\"dataframe\">\n",
       "  <thead>\n",
       "    <tr style=\"text-align: right;\">\n",
       "      <th></th>\n",
       "      <th>InvoiceNo</th>\n",
       "      <th>StockCode</th>\n",
       "      <th>Description</th>\n",
       "      <th>Quantity</th>\n",
       "      <th>InvoiceDate</th>\n",
       "      <th>UnitPrice</th>\n",
       "      <th>CustomerID</th>\n",
       "      <th>Country</th>\n",
       "    </tr>\n",
       "  </thead>\n",
       "  <tbody>\n",
       "    <tr>\n",
       "      <th>0</th>\n",
       "      <td>536365</td>\n",
       "      <td>85123A</td>\n",
       "      <td>WHITE HANGING HEART T-LIGHT HOLDER</td>\n",
       "      <td>6</td>\n",
       "      <td>2010-12-01 08:26:00</td>\n",
       "      <td>2.55</td>\n",
       "      <td>17850</td>\n",
       "      <td>United Kingdom</td>\n",
       "    </tr>\n",
       "    <tr>\n",
       "      <th>1</th>\n",
       "      <td>536365</td>\n",
       "      <td>71053</td>\n",
       "      <td>WHITE METAL LANTERN</td>\n",
       "      <td>6</td>\n",
       "      <td>2010-12-01 08:26:00</td>\n",
       "      <td>3.39</td>\n",
       "      <td>17850</td>\n",
       "      <td>United Kingdom</td>\n",
       "    </tr>\n",
       "    <tr>\n",
       "      <th>2</th>\n",
       "      <td>536365</td>\n",
       "      <td>84406B</td>\n",
       "      <td>CREAM CUPID HEARTS COAT HANGER</td>\n",
       "      <td>8</td>\n",
       "      <td>2010-12-01 08:26:00</td>\n",
       "      <td>2.75</td>\n",
       "      <td>17850</td>\n",
       "      <td>United Kingdom</td>\n",
       "    </tr>\n",
       "    <tr>\n",
       "      <th>3</th>\n",
       "      <td>536365</td>\n",
       "      <td>84029G</td>\n",
       "      <td>KNITTED UNION FLAG HOT WATER BOTTLE</td>\n",
       "      <td>6</td>\n",
       "      <td>2010-12-01 08:26:00</td>\n",
       "      <td>3.39</td>\n",
       "      <td>17850</td>\n",
       "      <td>United Kingdom</td>\n",
       "    </tr>\n",
       "    <tr>\n",
       "      <th>4</th>\n",
       "      <td>536365</td>\n",
       "      <td>84029E</td>\n",
       "      <td>RED WOOLLY HOTTIE WHITE HEART.</td>\n",
       "      <td>6</td>\n",
       "      <td>2010-12-01 08:26:00</td>\n",
       "      <td>3.39</td>\n",
       "      <td>17850</td>\n",
       "      <td>United Kingdom</td>\n",
       "    </tr>\n",
       "  </tbody>\n",
       "</table>\n",
       "</div>"
      ],
      "text/plain": [
       "  InvoiceNo StockCode                          Description  Quantity  \\\n",
       "0    536365    85123A   WHITE HANGING HEART T-LIGHT HOLDER         6   \n",
       "1    536365     71053                  WHITE METAL LANTERN         6   \n",
       "2    536365    84406B       CREAM CUPID HEARTS COAT HANGER         8   \n",
       "3    536365    84029G  KNITTED UNION FLAG HOT WATER BOTTLE         6   \n",
       "4    536365    84029E       RED WOOLLY HOTTIE WHITE HEART.         6   \n",
       "\n",
       "          InvoiceDate  UnitPrice  CustomerID         Country  \n",
       "0 2010-12-01 08:26:00       2.55       17850  United Kingdom  \n",
       "1 2010-12-01 08:26:00       3.39       17850  United Kingdom  \n",
       "2 2010-12-01 08:26:00       2.75       17850  United Kingdom  \n",
       "3 2010-12-01 08:26:00       3.39       17850  United Kingdom  \n",
       "4 2010-12-01 08:26:00       3.39       17850  United Kingdom  "
      ]
     },
     "execution_count": 183,
     "metadata": {},
     "output_type": "execute_result"
    }
   ],
   "source": [
    "# Просмотр уникальных пользователей по месяцам для UK\n",
    "UK_data.head()"
   ]
  },
  {
   "cell_type": "code",
   "execution_count": 184,
   "id": "04ae1537-7f0a-44ec-8c28-295825ba6acc",
   "metadata": {},
   "outputs": [
    {
     "data": {
      "text/plain": [
       "InvoiceNo              object\n",
       "StockCode              object\n",
       "Description            object\n",
       "Quantity                int64\n",
       "InvoiceDate    datetime64[ns]\n",
       "UnitPrice             float64\n",
       "CustomerID              int64\n",
       "Country                object\n",
       "dtype: object"
      ]
     },
     "execution_count": 184,
     "metadata": {},
     "output_type": "execute_result"
    }
   ],
   "source": [
    "UK_data.dtypes"
   ]
  },
  {
   "cell_type": "code",
   "execution_count": 185,
   "id": "828ee820-b35d-41d1-9401-ccb1a4a541cb",
   "metadata": {},
   "outputs": [],
   "source": [
    "UK_data.index = UK_data.InvoiceDate"
   ]
  },
  {
   "cell_type": "code",
   "execution_count": 186,
   "id": "5205885f-f511-4e27-9693-3e7b0a9f6cff",
   "metadata": {},
   "outputs": [
    {
     "data": {
      "text/html": [
       "<div>\n",
       "<style scoped>\n",
       "    .dataframe tbody tr th:only-of-type {\n",
       "        vertical-align: middle;\n",
       "    }\n",
       "\n",
       "    .dataframe tbody tr th {\n",
       "        vertical-align: top;\n",
       "    }\n",
       "\n",
       "    .dataframe thead th {\n",
       "        text-align: right;\n",
       "    }\n",
       "</style>\n",
       "<table border=\"1\" class=\"dataframe\">\n",
       "  <thead>\n",
       "    <tr style=\"text-align: right;\">\n",
       "      <th></th>\n",
       "      <th>InvoiceNo</th>\n",
       "      <th>StockCode</th>\n",
       "      <th>Description</th>\n",
       "      <th>Quantity</th>\n",
       "      <th>InvoiceDate</th>\n",
       "      <th>UnitPrice</th>\n",
       "      <th>CustomerID</th>\n",
       "      <th>Country</th>\n",
       "    </tr>\n",
       "    <tr>\n",
       "      <th>InvoiceDate</th>\n",
       "      <th></th>\n",
       "      <th></th>\n",
       "      <th></th>\n",
       "      <th></th>\n",
       "      <th></th>\n",
       "      <th></th>\n",
       "      <th></th>\n",
       "      <th></th>\n",
       "    </tr>\n",
       "  </thead>\n",
       "  <tbody>\n",
       "    <tr>\n",
       "      <th>2010-12-01 08:26:00</th>\n",
       "      <td>536365</td>\n",
       "      <td>85123A</td>\n",
       "      <td>WHITE HANGING HEART T-LIGHT HOLDER</td>\n",
       "      <td>6</td>\n",
       "      <td>2010-12-01 08:26:00</td>\n",
       "      <td>2.55</td>\n",
       "      <td>17850</td>\n",
       "      <td>United Kingdom</td>\n",
       "    </tr>\n",
       "    <tr>\n",
       "      <th>2010-12-01 08:26:00</th>\n",
       "      <td>536365</td>\n",
       "      <td>71053</td>\n",
       "      <td>WHITE METAL LANTERN</td>\n",
       "      <td>6</td>\n",
       "      <td>2010-12-01 08:26:00</td>\n",
       "      <td>3.39</td>\n",
       "      <td>17850</td>\n",
       "      <td>United Kingdom</td>\n",
       "    </tr>\n",
       "    <tr>\n",
       "      <th>2010-12-01 08:26:00</th>\n",
       "      <td>536365</td>\n",
       "      <td>84406B</td>\n",
       "      <td>CREAM CUPID HEARTS COAT HANGER</td>\n",
       "      <td>8</td>\n",
       "      <td>2010-12-01 08:26:00</td>\n",
       "      <td>2.75</td>\n",
       "      <td>17850</td>\n",
       "      <td>United Kingdom</td>\n",
       "    </tr>\n",
       "    <tr>\n",
       "      <th>2010-12-01 08:26:00</th>\n",
       "      <td>536365</td>\n",
       "      <td>84029G</td>\n",
       "      <td>KNITTED UNION FLAG HOT WATER BOTTLE</td>\n",
       "      <td>6</td>\n",
       "      <td>2010-12-01 08:26:00</td>\n",
       "      <td>3.39</td>\n",
       "      <td>17850</td>\n",
       "      <td>United Kingdom</td>\n",
       "    </tr>\n",
       "    <tr>\n",
       "      <th>2010-12-01 08:26:00</th>\n",
       "      <td>536365</td>\n",
       "      <td>84029E</td>\n",
       "      <td>RED WOOLLY HOTTIE WHITE HEART.</td>\n",
       "      <td>6</td>\n",
       "      <td>2010-12-01 08:26:00</td>\n",
       "      <td>3.39</td>\n",
       "      <td>17850</td>\n",
       "      <td>United Kingdom</td>\n",
       "    </tr>\n",
       "  </tbody>\n",
       "</table>\n",
       "</div>"
      ],
      "text/plain": [
       "                    InvoiceNo StockCode                          Description  \\\n",
       "InvoiceDate                                                                    \n",
       "2010-12-01 08:26:00    536365    85123A   WHITE HANGING HEART T-LIGHT HOLDER   \n",
       "2010-12-01 08:26:00    536365     71053                  WHITE METAL LANTERN   \n",
       "2010-12-01 08:26:00    536365    84406B       CREAM CUPID HEARTS COAT HANGER   \n",
       "2010-12-01 08:26:00    536365    84029G  KNITTED UNION FLAG HOT WATER BOTTLE   \n",
       "2010-12-01 08:26:00    536365    84029E       RED WOOLLY HOTTIE WHITE HEART.   \n",
       "\n",
       "                     Quantity         InvoiceDate  UnitPrice  CustomerID  \\\n",
       "InvoiceDate                                                                \n",
       "2010-12-01 08:26:00         6 2010-12-01 08:26:00       2.55       17850   \n",
       "2010-12-01 08:26:00         6 2010-12-01 08:26:00       3.39       17850   \n",
       "2010-12-01 08:26:00         8 2010-12-01 08:26:00       2.75       17850   \n",
       "2010-12-01 08:26:00         6 2010-12-01 08:26:00       3.39       17850   \n",
       "2010-12-01 08:26:00         6 2010-12-01 08:26:00       3.39       17850   \n",
       "\n",
       "                            Country  \n",
       "InvoiceDate                          \n",
       "2010-12-01 08:26:00  United Kingdom  \n",
       "2010-12-01 08:26:00  United Kingdom  \n",
       "2010-12-01 08:26:00  United Kingdom  \n",
       "2010-12-01 08:26:00  United Kingdom  \n",
       "2010-12-01 08:26:00  United Kingdom  "
      ]
     },
     "execution_count": 186,
     "metadata": {},
     "output_type": "execute_result"
    }
   ],
   "source": [
    "UK_data.head()"
   ]
  },
  {
   "cell_type": "code",
   "execution_count": 187,
   "id": "87b4530a-e80e-4cea-a3e3-6eeb0c89feae",
   "metadata": {},
   "outputs": [
    {
     "name": "stderr",
     "output_type": "stream",
     "text": [
      "/tmp/ipykernel_5154/2623004488.py:2: FutureWarning: 'M' is deprecated and will be removed in a future version, please use 'ME' instead.\n",
      "  UK_data.resample('M').CustomerID.nunique()\n"
     ]
    },
    {
     "data": {
      "text/plain": [
       "InvoiceDate\n",
       "2010-12-31     871\n",
       "2011-01-31     684\n",
       "2011-02-28     714\n",
       "2011-03-31     923\n",
       "2011-04-30     817\n",
       "2011-05-31     985\n",
       "2011-06-30     943\n",
       "2011-07-31     899\n",
       "2011-08-31     867\n",
       "2011-09-30    1177\n",
       "2011-10-31    1285\n",
       "2011-11-30    1547\n",
       "2011-12-31     617\n",
       "Freq: ME, Name: CustomerID, dtype: int64"
      ]
     },
     "execution_count": 187,
     "metadata": {},
     "output_type": "execute_result"
    }
   ],
   "source": [
    "# Применить к нашему индексу даты перегрупировку по месяцам\n",
    "UK_data.resample('M').CustomerID.nunique()"
   ]
  },
  {
   "cell_type": "code",
   "execution_count": 188,
   "id": "500379ca-b026-4bf1-b34f-31082ce92526",
   "metadata": {},
   "outputs": [
    {
     "name": "stderr",
     "output_type": "stream",
     "text": [
      "/tmp/ipykernel_5154/2587751417.py:2: FutureWarning: 'M' is deprecated and will be removed in a future version, please use 'ME' instead.\n",
      "  UK_data.resample('M').CustomerID.nunique().plot()\n"
     ]
    },
    {
     "data": {
      "text/plain": [
       "<Axes: xlabel='InvoiceDate'>"
      ]
     },
     "execution_count": 188,
     "metadata": {},
     "output_type": "execute_result"
    },
    {
     "data": {
      "image/png": "[encoded data removed]",
      "text/plain": [
       "<Figure size 1600x600 with 1 Axes>"
      ]
     },
     "metadata": {},
     "output_type": "display_data"
    }
   ],
   "source": [
    "# Можно посмотреть на графике\n",
    "UK_data.resample('M').CustomerID.nunique().plot()"
   ]
  },
  {
   "cell_type": "code",
   "execution_count": 189,
   "id": "7e50dbb9-ae5c-401a-8470-d48add157d14",
   "metadata": {},
   "outputs": [
    {
     "data": {
      "text/plain": [
       "<Axes: xlabel='InvoiceDate'>"
      ]
     },
     "execution_count": 189,
     "metadata": {},
     "output_type": "execute_result"
    },
    {
     "data": {
      "image/png": "[encoded data removed]",
      "text/plain": [
       "<Figure size 1600x600 with 1 Axes>"
      ]
     },
     "metadata": {},
     "output_type": "display_data"
    }
   ],
   "source": [
    "# Можно применить по дням, неделям, месяцам, годам\n",
    "# По дням:\n",
    "UK_data.resample('D').CustomerID.nunique().plot()"
   ]
  },
  {
   "cell_type": "code",
   "execution_count": 190,
   "id": "28a8bed4-5361-40af-9f88-5e93235fa685",
   "metadata": {},
   "outputs": [
    {
     "data": {
      "text/plain": [
       "<Axes: xlabel='InvoiceDate'>"
      ]
     },
     "execution_count": 190,
     "metadata": {},
     "output_type": "execute_result"
    },
    {
     "data": {
      "image/png": "[encoded data removed]",
      "text/plain": [
       "<Figure size 1600x600 with 1 Axes>"
      ]
     },
     "metadata": {},
     "output_type": "display_data"
    }
   ],
   "source": [
    "# Можно применить со скользящим средним, например по дням\n",
    "UK_data.resample('D').CustomerID.nunique().rolling(10).mean().plot()"
   ]
  },
  {
   "cell_type": "markdown",
   "id": "342ed849-6ce6-4f98-8600-cf621f210541",
   "metadata": {},
   "source": [
    "## Итого\n",
    "\n",
    "Открылось понимание, что такое **Series** — одномерный массив с индексами, и **DataFrame** — таблица, состоящая из таких Series.\n",
    "\n",
    "**Работа с Series**\n",
    "\n",
    "   * Создавал Series из списков и словарей.\n",
    "   * Задавал свои индексы и имена.\n",
    "   * Доставал элементы, менял их значения, фильтровал данные по условиям.\n",
    "\n",
    "**Работа с DataFrame**\n",
    "\n",
    "   * Создавал таблицы из словарей.\n",
    "   * Работал с колонками и строками.\n",
    "   * Считал базовые показатели: сумму, среднее, описательную статистику.\n",
    "\n",
    "**Работа с внешними файлами**\n",
    "\n",
    "   * Загружал данные из Excel и CSV.\n",
    "   * Смотрел на структуру данных: первые строки, размеры таблицы, типы колонок.\n",
    "   * Предобрабатывал данные: заполнял пропуски, менял типы, удалял некорректные записи.\n",
    "\n",
    "**Аналитические запросы**\n",
    "\n",
    "   * Фильтровал и группировал данные.\n",
    "   * Считал уникальных пользователей и количество транзакций.\n",
    "   * Работал с датами и временными рядами: преобразовывал даты, агрегировал по дням, месяцам, строил скользящие средние.\n"
   ]
  },
  {
   "cell_type": "code",
   "execution_count": null,
   "id": "abcc3242-fb0a-431d-8e13-4e7fbab384f3",
   "metadata": {},
   "outputs": [],
   "source": []
  }
 ],
 "metadata": {
  "kernelspec": {
   "display_name": "Python Tools",
   "language": "python",
   "name": "python-data-notebooks_env"
  },
  "language_info": {
   "codemirror_mode": {
    "name": "ipython",
    "version": 3
   },
   "file_extension": ".py",
   "mimetype": "text/x-python",
   "name": "python",
   "nbconvert_exporter": "python",
   "pygments_lexer": "ipython3",
   "version": "3.12.3"
  }
 },
 "nbformat": 4,
 "nbformat_minor": 5
}
