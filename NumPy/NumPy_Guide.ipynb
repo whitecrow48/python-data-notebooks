{
 "cells": [
  {
   "cell_type": "markdown",
   "id": "e8185159-5821-4c58-9d1b-17fc803218db",
   "metadata": {},
   "source": [
    "<div align=\"center\">\n",
    "\n",
    "# Справочник по NumPy\n",
    "\n",
    "</div>\n",
    "\n",
    "---\n",
    "\n",
    "**NumPy** — это библиотека для работы с данными и машинного обучения. Она позволяет создавать массивы и быстро их обрабатывать, так как выполняет операции не поэлементно, а сразу над всем массивом. Благодаря реализации на чистом **C**, **NumPy** обеспечивает низкоуровневую оптимизацию и значительно выигрывает по скорости по сравнению с обычными массивами **Python**."
   ]
  },
  {
   "cell_type": "code",
   "execution_count": 3,
   "id": "92608ec3-0773-40ae-82bc-a66059230422",
   "metadata": {},
   "outputs": [],
   "source": [
    "import numpy as np"
   ]
  },
  {
   "cell_type": "markdown",
   "id": "b04f0acc-75cd-4c7f-9589-3d360bb203b4",
   "metadata": {},
   "source": [
    "<div align=\"center\">\n",
    "\n",
    "# 1. Одномерные массивы\n",
    "\n",
    "</div>\n",
    "\n",
    "---\n"
   ]
  },
  {
   "cell_type": "code",
   "execution_count": 4,
   "id": "13324837-5641-4083-83a2-5fc6456b1f2a",
   "metadata": {},
   "outputs": [
    {
     "name": "stdout",
     "output_type": "stream",
     "text": [
      "<class 'list'> <class 'numpy.ndarray'>\n"
     ]
    }
   ],
   "source": [
    "a = [1, 2, 3] # Классический python список\n",
    "b = np.array(a, dtype = 'float64') # NumPy список\n",
    "print(type(a), type(b))"
   ]
  },
  {
   "cell_type": "code",
   "execution_count": 5,
   "id": "86c2fb76-a849-4f85-9675-26dc08755a51",
   "metadata": {},
   "outputs": [
    {
     "data": {
      "text/plain": [
       "array([1., 2., 3.])"
      ]
     },
     "execution_count": 5,
     "metadata": {},
     "output_type": "execute_result"
    }
   ],
   "source": [
    "b # явно указали что данные должны быть вещественного типа"
   ]
  },
  {
   "cell_type": "code",
   "execution_count": 6,
   "id": "55e34ed3-0b73-41cb-94a0-caef95b40c7c",
   "metadata": {},
   "outputs": [
    {
     "name": "stdout",
     "output_type": "stream",
     "text": [
      "Для лист: <class 'int'> \n",
      "Для np.array: <class 'numpy.str_'>\n"
     ]
    }
   ],
   "source": [
    "a = [1, 2, 'c'] # Python позволяет в списках хранить разные типы,\n",
    "# для NumPy важно, чтобы все элементы массивы были однородны\n",
    "\n",
    "b = np.array(a)\n",
    "print('Для лист:', type(a[0]),\n",
    "      '\\nДля np.array:', type(b[0]))"
   ]
  },
  {
   "cell_type": "markdown",
   "id": "95b8fde5-c25d-47ef-a13e-4ce616fa13d8",
   "metadata": {},
   "source": [
    "---\n",
    "\n",
    "В массивах **NumPy** все элементы должны быть одного типа. В отличие от списков **Python**, где это не имеет значения, в **NumPy** желательно соблюдать однородность: если в массиве встречаются разные типы данных, произойдёт неявное приведение (каст) всех элементов к одному типу.\n",
    "\n",
    "Например, при создании массива `np.array` из чисел и строк, все элементы будут преобразованы в строки. Это связано с иерархией типов данных в **NumPy**: строка имеет более высокий приоритет, чем целое число, так как число всегда можно привести к строке, а строку — не всегда к числу.\n",
    "\n",
    "---"
   ]
  },
  {
   "cell_type": "code",
   "execution_count": 7,
   "id": "0b88cc0a-9e02-4a34-ac50-c928c1ed317c",
   "metadata": {},
   "outputs": [
    {
     "name": "stdout",
     "output_type": "stream",
     "text": [
      "<class 'numpy.ndarray'>\n"
     ]
    }
   ],
   "source": [
    "# Также в конструктор можно сразу передавать сразу список \n",
    "b = np.array([1, 2, 3])\n",
    "print(type(b))"
   ]
  },
  {
   "cell_type": "markdown",
   "id": "46f5ce82-1502-4d48-b3e1-e6c0ad867b87",
   "metadata": {},
   "source": [
    "### методы класса ndarray\n",
    "\n",
    "Возьмем все методы объекта b с помошью команды `dir` и вычтем все объекты класса python `object`, чтобы увидеть какие есть методы класса **ndarray**."
   ]
  },
  {
   "cell_type": "markdown",
   "id": "c1e6d41f-e06a-4dac-8b67-a3c4a8a892ce",
   "metadata": {},
   "source": [
    "set(dir(b)) - set(dir(object))"
   ]
  },
  {
   "cell_type": "code",
   "execution_count": 8,
   "id": "f3b7e447-c75c-4d2d-9718-55e6a610fa43",
   "metadata": {},
   "outputs": [
    {
     "data": {
      "text/plain": [
       "20"
      ]
     },
     "execution_count": 8,
     "metadata": {},
     "output_type": "execute_result"
    }
   ],
   "source": [
    "# Рассмотрим метод nbytes\n",
    "arr = np.array([1, 2, 3, 4, 5], dtype = 'int32') \n",
    "\n",
    "# int32 - это 32 бита, то есть 4 байта\n",
    "# 4 байта * 5 элементов нашего массива = 20\n",
    "arr.nbytes"
   ]
  },
  {
   "cell_type": "markdown",
   "id": "e390b953-5396-4087-9662-fcc1e0dd908a",
   "metadata": {},
   "source": [
    "### Рассмотрим количественные характеристики ndarray"
   ]
  },
  {
   "cell_type": "code",
   "execution_count": 9,
   "id": "298bbb86-5a41-447c-a7f0-9ce641279179",
   "metadata": {},
   "outputs": [
    {
     "name": "stdout",
     "output_type": "stream",
     "text": [
      "[[[1 2 3 6]\n",
      "  [4 5 6 8]\n",
      "  [7 8 9 1]]\n",
      "\n",
      " [[1 2 3 5]\n",
      "  [4 5 6 6]\n",
      "  [7 8 9 4]]]\n"
     ]
    }
   ],
   "source": [
    "# Создадим 3-х мерный массив для примера\n",
    "arr = np.array([[[1, 2, 3, 6],\n",
    "                 [4, 5, 6, 8],\n",
    "                 [7, 8, 9, 1]],\n",
    "                 [[1, 2, 3, 5],\n",
    "                 [4, 5, 6, 6],\n",
    "                 [7, 8, 9, 4]]])\n",
    "print(arr)"
   ]
  },
  {
   "cell_type": "code",
   "execution_count": 10,
   "id": "fc3d4eca-fcc5-4129-8163-f7cbf9c06516",
   "metadata": {},
   "outputs": [
    {
     "name": "stdout",
     "output_type": "stream",
     "text": [
      "Длина: 2 -- кол-во элементов по первой оси. \n",
      "size: 24 -- всего элементов в матрице. \n",
      "ndim: 3 -- рамзерность матрицы \n",
      "shape: (2, 3, 4) -- кол-во элементов по каждой оси\n"
     ]
    }
   ],
   "source": [
    "# Количественные хар-ки\n",
    "print(\"Длина:\", len(arr), \"-- кол-во элементов по первой оси.\",\n",
    "      \"\\nsize:\", arr.size, \"-- всего элементов в матрице.\",\n",
    "      \"\\nndim:\", arr.ndim, \"-- рамзерность матрицы\",\n",
    "      \"\\nshape:\", arr.shape, \"-- кол-во элементов по каждой оси\")\n",
    "\n"
   ]
  },
  {
   "cell_type": "markdown",
   "id": "09f91bd7-2d9a-469d-b812-3019b2eab4dc",
   "metadata": {},
   "source": [
    "---\n",
    "\n",
    "* **`len()`** — встроенная функция Python. Для массива NumPy она возвращает количество элементов вдоль **первой оси**. Например, трёхмерный массив можно рассматривать как массив двумерных массивов, и `len()` покажет, сколько таких двумерных блоков содержится.\n",
    "* **`size`** — общее количество элементов во всём массиве.\n",
    "* **`ndim`** — количество измерений (осей) массива. В данном случае массив трёхмерный.\n",
    "* **`shape`** — кортеж, описывающий количество элементов вдоль каждой оси. Например, `(2, 3, 4)` означает, что массив состоит из **2** матриц размером `3 × 4`.\n",
    "\n",
    "---"
   ]
  },
  {
   "cell_type": "markdown",
   "id": "8412b1ea-a47c-4b2a-a08d-32f0c0ace9e3",
   "metadata": {},
   "source": [
    "### Индексы"
   ]
  },
  {
   "cell_type": "code",
   "execution_count": 11,
   "id": "91b81203-3c7a-491c-97f3-6f3765371566",
   "metadata": {},
   "outputs": [
    {
     "data": {
      "text/plain": [
       "(np.int64(1), np.int64(2))"
      ]
     },
     "execution_count": 11,
     "metadata": {},
     "output_type": "execute_result"
    }
   ],
   "source": [
    "a = np.array([1, 2, 4, 5]) \n",
    "a[0], a[1] # индексация работает также как и у Python"
   ]
  },
  {
   "cell_type": "code",
   "execution_count": 12,
   "id": "ef2d5357-62a5-4765-8d53-3e268d253cd4",
   "metadata": {},
   "outputs": [
    {
     "data": {
      "text/plain": [
       "np.int64(5)"
      ]
     },
     "execution_count": 12,
     "metadata": {},
     "output_type": "execute_result"
    }
   ],
   "source": [
    "a[-1] # Выводит последний элемент"
   ]
  },
  {
   "cell_type": "code",
   "execution_count": 13,
   "id": "ebec0fa1-f96e-461d-a0e2-95b1f593c036",
   "metadata": {},
   "outputs": [
    {
     "data": {
      "text/plain": [
       "np.int64(4)"
      ]
     },
     "execution_count": 13,
     "metadata": {},
     "output_type": "execute_result"
    }
   ],
   "source": [
    "a[-2] # Выводит предпоследний элемент и тд"
   ]
  },
  {
   "cell_type": "code",
   "execution_count": 14,
   "id": "6f1b8bd9-7244-496f-8b5e-3a48f8ba332d",
   "metadata": {},
   "outputs": [
    {
     "data": {
      "text/plain": [
       "array([ 1, -2,  4,  5])"
      ]
     },
     "execution_count": 14,
     "metadata": {},
     "output_type": "execute_result"
    }
   ],
   "source": [
    "# Можем изменить элемент массива по индексу \n",
    "a[1] = -2\n",
    "a"
   ]
  },
  {
   "cell_type": "markdown",
   "id": "d431ef72-9d57-4274-a70c-81ba1e8b1d76",
   "metadata": {},
   "source": [
    "---\n",
    "\n",
    "`ndarray` можно использовать в циклах, однако это нежелательно, поскольку в таком случае теряется главное преимущество **NumPy** — высокое быстродействие. Вместо перебора элементов лучше применять векторизованные операции, которые работают сразу со всем массивом.\n",
    "\n",
    "---"
   ]
  },
  {
   "cell_type": "code",
   "execution_count": 15,
   "id": "39547a4f-b576-48e2-95de-fc611cc7a1d3",
   "metadata": {},
   "outputs": [
    {
     "name": "stdout",
     "output_type": "stream",
     "text": [
      "1\n",
      "-2\n",
      "4\n",
      "5\n"
     ]
    }
   ],
   "source": [
    "# Цикл по массиву\n",
    "for i in a:\n",
    "    print(i)"
   ]
  },
  {
   "cell_type": "markdown",
   "id": "b7785fba-317a-4179-b06a-6e7fb24a5e95",
   "metadata": {},
   "source": [
    "### Создание массивов"
   ]
  },
  {
   "cell_type": "code",
   "execution_count": 16,
   "id": "99c831fe-9619-4796-a5ac-36adf2f4b53c",
   "metadata": {},
   "outputs": [
    {
     "name": "stdout",
     "output_type": "stream",
     "text": [
      "[0. 0. 0. 0. 0. 0. 0.]\n",
      "[1 1 1 1 1 1 1]\n"
     ]
    }
   ],
   "source": [
    "a = np.zeros(7) # Массив из нулей, по умолчнанию будут float64\n",
    "b = np.ones(7, dtype = np.int16) # Массив из едениц\n",
    "print(a)\n",
    "print(b)"
   ]
  },
  {
   "cell_type": "markdown",
   "id": "e7c6fac9-3d29-42e3-bb18-4a9fd33f77bb",
   "metadata": {},
   "source": [
    "#### Создание нулевых или еденичных массивов размером как другой"
   ]
  },
  {
   "cell_type": "code",
   "execution_count": 17,
   "id": "a53cf5db-7091-48c4-bd62-62a3592f20b4",
   "metadata": {},
   "outputs": [
    {
     "name": "stdout",
     "output_type": "stream",
     "text": [
      "[0 0 0 0]\n"
     ]
    }
   ],
   "source": [
    "arr = np.array([1, 2, 4, 6], dtype = 'int32')\n",
    "zero = np.zeros_like(arr)\n",
    "print(zero)"
   ]
  },
  {
   "cell_type": "code",
   "execution_count": 18,
   "id": "415dce1f-0924-4043-8102-bc4e5910ef12",
   "metadata": {},
   "outputs": [
    {
     "name": "stdout",
     "output_type": "stream",
     "text": [
      "[1 1 1 1]\n"
     ]
    }
   ],
   "source": [
    "arr = np.array([1, 2, 4, 6], dtype = 'int32')\n",
    "zero = np.ones_like(arr)\n",
    "print(zero)"
   ]
  },
  {
   "cell_type": "markdown",
   "id": "94c81dfb-e562-40a8-af4e-824e1c913b21",
   "metadata": {},
   "source": [
    "> Метод `np.zeros_like` и `np.ones_like` берет не только форму ихсодного массива, а также его тип данных."
   ]
  },
  {
   "cell_type": "markdown",
   "id": "a625083f-5b13-406a-9078-260325b471f6",
   "metadata": {},
   "source": [
    "---\n",
    "\n",
    "Функция `np.arange` работает аналогично встроенной функции `range` в Python и позволяет создавать последовательность чисел с фиксированным шагом. Она принимает до трёх аргументов:\n",
    "\n",
    "1. **start** — число, с которого начинается последовательность (по умолчанию `0`);\n",
    "2. **stop** — число, до которого идёт последовательность (не включая его);\n",
    "3. **step** — шаг, с которым формируется последовательность (по умолчанию `1`).\n",
    "\n",
    "Таким образом:\n",
    "\n",
    "* при одном аргументе указывается только **stop**, а начало считается равным `0`, шаг — `1`;\n",
    "* при двух аргументах задаются **start** и **stop**, шаг остаётся равным `1`;\n",
    "* при трёх аргументах задаются **start**, **stop** и **step** явно.\n",
    "\n",
    "---"
   ]
  },
  {
   "cell_type": "code",
   "execution_count": 19,
   "id": "baae44d3-ffa0-4a46-9a6f-03fff2e80092",
   "metadata": {},
   "outputs": [
    {
     "name": "stdout",
     "output_type": "stream",
     "text": [
      "[ 1  5  9 13]\n",
      "[ 5.  7.  9. 11. 13. 15. 17. 19.]\n",
      "[1 2 3 4 5 6 7 8 9]\n",
      "[0 1 2 3 4]\n"
     ]
    }
   ],
   "source": [
    "a = np.arange(1, 16, 4)\n",
    "b = np.arange(5., 21, 2)\n",
    "c = np.arange(1, 10)\n",
    "d = np.arange(5)\n",
    "print(a)\n",
    "print(b)\n",
    "print(c)\n",
    "print(d)"
   ]
  },
  {
   "cell_type": "markdown",
   "id": "688a1ef8-c825-41e9-9f8a-867b18533439",
   "metadata": {},
   "source": [
    "---\n",
    "\n",
    "Функция `np.linspace` используется для создания равномерно распределённых чисел на заданном отрезке. В отличие от `np.arange`, здесь указывается не шаг, а количество элементов.\n",
    "\n",
    "* **первый аргумент** — начало диапазона (включается);\n",
    "* **второй аргумент** — конец диапазона (включается);\n",
    "* **третий аргумент** — количество точек, которые нужно сгенерировать.\n",
    "\n",
    "Таким образом, `np.linspace(0, 1, 5)` создаст массив `[0. , 0.25, 0.5 , 0.75, 1. ]`.\n",
    "\n",
    "---"
   ]
  },
  {
   "cell_type": "code",
   "execution_count": 20,
   "id": "48cd1c72-e6cc-4e55-ba60-8e87a1480b42",
   "metadata": {},
   "outputs": [
    {
     "name": "stdout",
     "output_type": "stream",
     "text": [
      "[ 1. 15.]\n",
      "[ 5.          5.77777778  6.55555556  7.33333333  8.11111111  8.88888889\n",
      "  9.66666667 10.44444444 11.22222222 12.        ]\n"
     ]
    }
   ],
   "source": [
    "a = np.linspace(1, 15, 2)\n",
    "b = np.linspace(5, 12, 10)\n",
    "print(a)\n",
    "print(b)"
   ]
  },
  {
   "cell_type": "code",
   "execution_count": 21,
   "id": "a999a039-6f7f-43b7-ac9f-3a6a4bd3ca29",
   "metadata": {},
   "outputs": [
    {
     "name": "stdout",
     "output_type": "stream",
     "text": [
      "[10. 12. 14. 16. 18. 20. 22. 24. 26. 28. 30. 32.]\n",
      "Шаг: 2.0\n"
     ]
    }
   ],
   "source": [
    "# Пример: вывести числа от 10 до 32 12 чисел и узнать шаг.\n",
    "a = np.linspace(10, 32, 12)\n",
    "print(a)\n",
    "print('Шаг:', a[1] - a[0])"
   ]
  },
  {
   "cell_type": "markdown",
   "id": "dc5e09c9-d70b-4c4b-828a-ba741bde1627",
   "metadata": {},
   "source": [
    "---\n",
    "\n",
    "Функция `np.logspace` создаёт последовательность чисел с постоянным **логарифмическим шагом**.\n",
    "Аргументы:\n",
    "\n",
    "1. **start** — нижняя граница (указывается как показатель степени);\n",
    "2. **stop** — верхняя граница (также как показатель степени);\n",
    "3. **num** — количество точек в последовательности.\n",
    "\n",
    "По умолчанию основание степени равно `10`, но его можно изменить с помощью параметра `base`.\n",
    "\n",
    "---"
   ]
  },
  {
   "cell_type": "code",
   "execution_count": 22,
   "id": "9e3be9c3-fc23-4f2b-89d3-e4a8907e2ad7",
   "metadata": {},
   "outputs": [
    {
     "name": "stdout",
     "output_type": "stream",
     "text": [
      "[   1.            1.87381742    3.51119173    6.57933225   12.32846739\n",
      "   23.101297     43.28761281   81.11308308  151.9911083   284.80358684\n",
      "  533.66992312 1000.        ]\n"
     ]
    }
   ],
   "source": [
    "a = np.logspace(0, 3, 12)\n",
    "print(a)"
   ]
  },
  {
   "cell_type": "markdown",
   "id": "2dc5aef2-f21e-4155-a3c3-54ea82015f01",
   "metadata": {},
   "source": [
    "<div align=\"center\">\n",
    "\n",
    "# 2. Операции над одномерными массивами\n",
    "\n",
    "</div>\n",
    "\n",
    "---\n",
    "\n",
    "Все арифметические операции производятся поэлементно"
   ]
  },
  {
   "cell_type": "code",
   "execution_count": 23,
   "id": "98b077c8-aab8-49a4-ade6-8268583349f7",
   "metadata": {},
   "outputs": [
    {
     "name": "stdout",
     "output_type": "stream",
     "text": [
      "[ 3.  6.  9. 12. 15. 18. 21. 24. 27. 30. 33.]\n",
      "[ -2.  -4.  -6.  -8. -10. -12. -14. -16. -18. -20. -22.]\n",
      "\n",
      "\n",
      "\n",
      "[ 1.  2.  3.  4.  5.  6.  7.  8.  9. 10. 11.]\n",
      "[ 5. 10. 15. 20. 25. 30. 35. 40. 45. 50. 55.]\n",
      "[  -6.  -24.  -54.  -96. -150. -216. -294. -384. -486. -600. -726.]\n",
      "[-1.5 -1.5 -1.5 -1.5 -1.5 -1.5 -1.5 -1.5 -1.5 -1.5 -1.5]\n"
     ]
    }
   ],
   "source": [
    "a = np.linspace(3, 33, 11)\n",
    "b = np.linspace(-2, -22, 11)\n",
    "\n",
    "print(a)\n",
    "print(b)\n",
    "print('\\n\\n')\n",
    "print(a + b)\n",
    "print(a - b)\n",
    "print(a * b)\n",
    "print(a / b)"
   ]
  },
  {
   "cell_type": "markdown",
   "id": "04f94c39-1aa0-4127-8d08-724613ccdea1",
   "metadata": {},
   "source": [
    "**Один из операндов может быть скаляром, а не массивом**"
   ]
  },
  {
   "cell_type": "code",
   "execution_count": 24,
   "id": "a0559f3b-e7ac-4612-b949-c46ec5ece0c4",
   "metadata": {},
   "outputs": [
    {
     "name": "stdout",
     "output_type": "stream",
     "text": [
      "[ 15.  30.  45.  60.  75.  90. 105. 120. 135. 150. 165.]\n",
      "[  8.   6.   4.   2.   0.  -2.  -4.  -6.  -8. -10. -12.]\n"
     ]
    }
   ],
   "source": [
    "print(5 * a)\n",
    "print(10 + b)"
   ]
  },
  {
   "cell_type": "code",
   "execution_count": 25,
   "id": "9a58d8e1-5120-4bbc-b810-1bdddd192ef7",
   "metadata": {},
   "outputs": [
    {
     "name": "stdout",
     "output_type": "stream",
     "text": [
      "[  1.   4.   9.  16.  25.  36.  49.  64.  81. 100. 121.]\n",
      "[2.000e+00 4.000e+00 8.000e+00 1.600e+01 3.200e+01 6.400e+01 1.280e+02\n",
      " 2.560e+02 5.120e+02 1.024e+03 2.048e+03]\n"
     ]
    }
   ],
   "source": [
    "print((a + b) ** 2)\n",
    "print(2 ** (a + b))"
   ]
  },
  {
   "cell_type": "markdown",
   "id": "44840fa2-cce4-4024-bf8d-51a558bae421",
   "metadata": {},
   "source": [
    "2.048e+03 расшифровывается как 2.048 * $10^3$"
   ]
  },
  {
   "cell_type": "markdown",
   "id": "d8066438-e05e-4fd1-b671-4e208adffcb7",
   "metadata": {},
   "source": [
    "**Если типы элементов разные, то идет каст к большему**"
   ]
  },
  {
   "cell_type": "code",
   "execution_count": 26,
   "id": "8f43ee89-7b19-4c97-8f16-e80a24204105",
   "metadata": {},
   "outputs": [
    {
     "name": "stdout",
     "output_type": "stream",
     "text": [
      "<class 'numpy.float64'>\n"
     ]
    }
   ],
   "source": [
    "a = np.linspace(3, 33, 11) # float64\n",
    "b = a + np.arange(11, dtype = 'int16')\n",
    "print(type(b[0]))"
   ]
  },
  {
   "cell_type": "markdown",
   "id": "7cba0f9e-32b8-4b56-b516-29ea0553620a",
   "metadata": {},
   "source": [
    "---\n",
    "\n",
    "Помимо арифметических операций, в **NumPy** существуют элементарные функции, которые называются **универсальными функциями** (*ufunc*). К ним относятся: синус, косинус, экспонента, логарифм, а также обратные тригонометрические функции и многие другие.\n",
    "\n",
    "Как и арифметические операции, универсальные функции применяются **поэлементно** ко всем элементам массива.\n",
    "\n",
    "---"
   ]
  },
  {
   "cell_type": "code",
   "execution_count": 27,
   "id": "96ef167a-b38f-4c18-9160-c162088bb9a3",
   "metadata": {},
   "outputs": [
    {
     "data": {
      "text/plain": [
       "numpy.ufunc"
      ]
     },
     "execution_count": 27,
     "metadata": {},
     "output_type": "execute_result"
    }
   ],
   "source": [
    "type(np.cos)"
   ]
  },
  {
   "cell_type": "code",
   "execution_count": 28,
   "id": "639ed534-e439-4461-88cb-bd2f4de7ffc5",
   "metadata": {},
   "outputs": [
    {
     "name": "stdout",
     "output_type": "stream",
     "text": [
      "[ 3.  6.  9. 12. 15. 18. 21. 24. 27. 30. 33.]\n",
      "[ -2.  -4.  -6.  -8. -10. -12. -14. -16. -18. -20. -22.]\n"
     ]
    }
   ],
   "source": [
    "a = np.linspace(3, 33, 11)\n",
    "b = np.linspace(-2, -22, 11)\n",
    "print(a)\n",
    "print(b)"
   ]
  },
  {
   "cell_type": "code",
   "execution_count": 29,
   "id": "447eebdc-a916-46cf-ba50-3d9a0fe7d7c7",
   "metadata": {},
   "outputs": [
    {
     "data": {
      "text/plain": [
       "array([-0.9899925 ,  0.96017029, -0.91113026,  0.84385396, -0.75968791,\n",
       "        0.66031671, -0.54772926,  0.42417901, -0.29213881,  0.15425145,\n",
       "       -0.01327675])"
      ]
     },
     "execution_count": 29,
     "metadata": {},
     "output_type": "execute_result"
    }
   ],
   "source": [
    "np.cos(a)"
   ]
  },
  {
   "cell_type": "code",
   "execution_count": 30,
   "id": "a7f60404-037d-4182-8945-3011a7c87eae",
   "metadata": {},
   "outputs": [
    {
     "name": "stderr",
     "output_type": "stream",
     "text": [
      "/tmp/ipykernel_3585/4200754868.py:1: RuntimeWarning: invalid value encountered in log\n",
      "  np.log(b)\n"
     ]
    },
    {
     "data": {
      "text/plain": [
       "array([nan, nan, nan, nan, nan, nan, nan, nan, nan, nan, nan])"
      ]
     },
     "execution_count": 30,
     "metadata": {},
     "output_type": "execute_result"
    }
   ],
   "source": [
    "np.log(b)"
   ]
  },
  {
   "cell_type": "markdown",
   "id": "fc4a3aa7-5f76-4997-8207-492baf396bf1",
   "metadata": {},
   "source": [
    "---\n",
    "\n",
    "Мы не можем взять логарифм от массива `b`, так как он содержит отрицательные числа. Логарифм для отрицательных значений в действительной области **не определён**, поэтому результатом становятся значения `nan` (*not a number*).\n",
    "\n",
    "---"
   ]
  },
  {
   "cell_type": "markdown",
   "id": "96ee7468-e031-41ca-bc35-e32651800aae",
   "metadata": {},
   "source": [
    "**Логические операции также производятся поэлементно**"
   ]
  },
  {
   "cell_type": "code",
   "execution_count": 31,
   "id": "601cac6c-fe1d-4554-9863-ab6b1ab05b1d",
   "metadata": {},
   "outputs": [
    {
     "name": "stdout",
     "output_type": "stream",
     "text": [
      "[ True  True  True  True  True  True  True  True  True  True  True]\n",
      "[False False False False False False False False False False False]\n",
      "[False False False False False False False False False False False]\n",
      "[False False False  True  True  True  True  True  True  True  True]\n",
      "[ True  True  True False False False False False False False False]\n"
     ]
    }
   ],
   "source": [
    "print(a > b)\n",
    "print(a == b)\n",
    "print(a < b)\n",
    "print(a >= 10)\n",
    "print(a <= 10)"
   ]
  },
  {
   "cell_type": "markdown",
   "id": "886630b4-7718-4a37-919d-678680565950",
   "metadata": {},
   "source": [
    "---\n",
    "\n",
    "**Квантор существования** (∃) — утверждает, что **существует хотя бы один элемент** множества, для которого выполняется данное условие или логическое выражение.\n",
    "Пример:\n",
    "\n",
    "$$\n",
    "\\exists x \\in A : x > 0\n",
    "$$\n",
    "\n",
    "— в множестве $A$ есть хотя бы один положительный элемент.\n",
    "\n",
    "**Квантор всеобщности** (∀) — утверждает, что **для всех элементов множества** выполняется некоторое условие.\n",
    "Пример:\n",
    "\n",
    "$$\n",
    "\\forall x \\in A : x \\geq 0\n",
    "$$\n",
    "\n",
    "— все элементы множества $A$ неотрицательные.\n",
    "\n",
    "---"
   ]
  },
  {
   "cell_type": "code",
   "execution_count": 32,
   "id": "a397c1bd-bf3b-4e0a-b326-281dcc9c4ed4",
   "metadata": {},
   "outputs": [
    {
     "name": "stdout",
     "output_type": "stream",
     "text": [
      "[ 0.  1.  2.  3.  4.  5.  6.  7.  8.  9. 10. 11. 12. 13. 14. 15. 16. 17.\n",
      " 18. 19.]\n",
      "<class 'numpy.float64'>\n"
     ]
    }
   ],
   "source": [
    "c = np.arange(0., 20)\n",
    "print(c)\n",
    "print(type(c[0]))"
   ]
  },
  {
   "cell_type": "code",
   "execution_count": 33,
   "id": "89e76f5f-4ee7-4263-8c12-92cc93837740",
   "metadata": {},
   "outputs": [
    {
     "name": "stdout",
     "output_type": "stream",
     "text": [
      "False\n"
     ]
    }
   ],
   "source": [
    "# Для всеобщности\n",
    "print(np.all(c != 0.))"
   ]
  },
  {
   "cell_type": "code",
   "execution_count": 34,
   "id": "8d9ff35d-65fd-4a5e-862f-30f80716ae2b",
   "metadata": {},
   "outputs": [
    {
     "name": "stdout",
     "output_type": "stream",
     "text": [
      "True\n"
     ]
    }
   ],
   "source": [
    "# Для существования\n",
    "print(np.any(c == 0.))"
   ]
  },
  {
   "cell_type": "markdown",
   "id": "5efc62e4-eaba-4c61-a8e3-871a1d221b2d",
   "metadata": {},
   "source": [
    "---\n",
    "\n",
    "**Inplace-операции** — это операции, которые изменяют существующий объект, не создавая новый. В NumPy такие операции возможны только тогда, когда операнды совместимы по типу данных (dtype).\n",
    "\n",
    "---"
   ]
  },
  {
   "cell_type": "code",
   "execution_count": 35,
   "id": "d6460272-b65d-4290-94fc-3f2b05b2f9ce",
   "metadata": {},
   "outputs": [
    {
     "name": "stdout",
     "output_type": "stream",
     "text": [
      "[-0.7568025  0.2431975  1.2431975  2.2431975  3.2431975  4.2431975\n",
      "  5.2431975  6.2431975  7.2431975  8.2431975  9.2431975 10.2431975\n",
      " 11.2431975 12.2431975 13.2431975 14.2431975 15.2431975 16.2431975\n",
      " 17.2431975 18.2431975]\n"
     ]
    }
   ],
   "source": [
    "c = np.arange(0., 20)\n",
    "c += np.sin(4)\n",
    "print(c)"
   ]
  },
  {
   "cell_type": "code",
   "execution_count": 36,
   "id": "6ff167b8-60d8-4399-aac6-9d93de62ecd2",
   "metadata": {},
   "outputs": [
    {
     "name": "stdout",
     "output_type": "stream",
     "text": [
      "[-1.51360499  0.48639501  2.48639501  4.48639501  6.48639501  8.48639501\n",
      " 10.48639501 12.48639501 14.48639501 16.48639501 18.48639501 20.48639501\n",
      " 22.48639501 24.48639501 26.48639501 28.48639501 30.48639501 32.48639501\n",
      " 34.48639501 36.48639501]\n"
     ]
    }
   ],
   "source": [
    "c *= 2\n",
    "print(c)"
   ]
  },
  {
   "cell_type": "markdown",
   "id": "c1faee83-d501-4f24-8203-3baab2bada77",
   "metadata": {},
   "source": [
    "**При делении ndarray на нули, исключение не бросается**"
   ]
  },
  {
   "cell_type": "code",
   "execution_count": 37,
   "id": "ff109c97-816a-45b2-8dbd-7aa5af340333",
   "metadata": {},
   "outputs": [
    {
     "name": "stdout",
     "output_type": "stream",
     "text": [
      "[  0.  nan  inf -inf] Получится просто 0, неопределенное число, плюс бесконечность, и минус бесконечность\n"
     ]
    },
    {
     "name": "stderr",
     "output_type": "stream",
     "text": [
      "/tmp/ipykernel_3585/3090575395.py:3: RuntimeWarning: divide by zero encountered in divide\n",
      "  print(a / b,\n",
      "/tmp/ipykernel_3585/3090575395.py:3: RuntimeWarning: invalid value encountered in divide\n",
      "  print(a / b,\n"
     ]
    }
   ],
   "source": [
    "a = np.array([0.0, 0.0, 1.0, -1.0])\n",
    "b = np.array([1.0, 0.0, 0.0, 0.0])\n",
    "print(a / b, \n",
    "      'Получится просто 0, неопределенное число, плюс бесконечность, '\n",
    "      'и минус бесконечность')"
   ]
  },
  {
   "cell_type": "markdown",
   "id": "e1237242-acec-4032-b6a8-b2712e0c863c",
   "metadata": {},
   "source": [
    "**Математические константы**"
   ]
  },
  {
   "cell_type": "code",
   "execution_count": 38,
   "id": "336e05ad-a7a0-4728-9746-2b8cd5c737b9",
   "metadata": {},
   "outputs": [
    {
     "name": "stdout",
     "output_type": "stream",
     "text": [
      "2.718281828459045\n",
      "3.141592653589793\n"
     ]
    }
   ],
   "source": [
    "print(np.e)\n",
    "print(np.pi)"
   ]
  },
  {
   "cell_type": "markdown",
   "id": "5c3a48d2-cf41-4927-b670-bc422e118444",
   "metadata": {},
   "source": [
    "---\n",
    "\n",
    "**Кумулятивная сумма** — это последовательность, в которой каждый элемент равен сумме всех предыдущих элементов исходного массива, включая текущий.\n",
    "\n",
    "---"
   ]
  },
  {
   "cell_type": "code",
   "execution_count": 39,
   "id": "f9d70ebb-543a-42c5-ae1e-3699932d12fe",
   "metadata": {},
   "outputs": [
    {
     "name": "stdout",
     "output_type": "stream",
     "text": [
      "[ 1.  2.  3.  4.  5.  6.  7.  8.  9. 10. 11. 12. 13. 14. 15. 16. 17. 18.\n",
      " 19. 20.]\n",
      "[  1.   3.   6.  10.  15.  21.  28.  36.  45.  55.  66.  78.  91. 105.\n",
      " 120. 136. 153. 171. 190. 210.]\n"
     ]
    }
   ],
   "source": [
    "b = np.arange(1., 21, 1)\n",
    "c = b.cumsum()\n",
    "print(b)\n",
    "print(c)"
   ]
  },
  {
   "cell_type": "markdown",
   "id": "b38ce091-f62e-4422-ac0e-8c182da0816f",
   "metadata": {},
   "source": [
    "**Сортировка в NumPy массивах**"
   ]
  },
  {
   "cell_type": "code",
   "execution_count": 40,
   "id": "3c2d6f46-b649-4b6d-a632-ff67aa84ef73",
   "metadata": {},
   "outputs": [
    {
     "name": "stdout",
     "output_type": "stream",
     "text": [
      "[-4  0  1  5  9]\n",
      "[ 9 -4  0  1  5]\n"
     ]
    }
   ],
   "source": [
    "# Первый метод сортирует, но не изменяет его\n",
    "a = np.array([9, -4, 0, 1, 5])\n",
    "print(np.sort(a))\n",
    "print(a)"
   ]
  },
  {
   "cell_type": "code",
   "execution_count": 41,
   "id": "1ebf7a7b-f1ba-4a47-86b2-dcd618cf6320",
   "metadata": {},
   "outputs": [
    {
     "name": "stdout",
     "output_type": "stream",
     "text": [
      "[-4  0  1  5  9]\n"
     ]
    }
   ],
   "source": [
    "# Второй метод сортирует и изменяет его\n",
    "a = np.array([9, -4, 0, 1, 5])\n",
    "a.sort()\n",
    "print(a)"
   ]
  },
  {
   "cell_type": "markdown",
   "id": "a65ec063-b366-4e36-86fb-1ae718084541",
   "metadata": {},
   "source": [
    "**Объединение массивов**"
   ]
  },
  {
   "cell_type": "code",
   "execution_count": 42,
   "id": "d3a8055b-1d76-415c-8651-e7944c1e935b",
   "metadata": {},
   "outputs": [
    {
     "data": {
      "text/plain": [
       "array([ 9., -4.,  0.,  1.,  5.,  1.,  1.,  1.,  1.,  1.,  5.,  5.,  5.,\n",
       "        5.,  5.])"
      ]
     },
     "execution_count": 42,
     "metadata": {},
     "output_type": "execute_result"
    }
   ],
   "source": [
    "a = np.array([9, -4, 0, 1, 5])\n",
    "b = np.ones(5)\n",
    "c = np.hstack((a, b, b*5))\n",
    "c"
   ]
  },
  {
   "cell_type": "markdown",
   "id": "f2cd79bf-67b0-4063-a828-fd64460fb3b5",
   "metadata": {},
   "source": [
    "**Расщепление массивов**"
   ]
  },
  {
   "cell_type": "code",
   "execution_count": 43,
   "id": "e4a3de9a-a28b-438c-9de3-9f68ec8576e4",
   "metadata": {},
   "outputs": [
    {
     "name": "stdout",
     "output_type": "stream",
     "text": [
      "[ 9 -4  0  1  5  9 10]\n",
      "[ 9 -4  0]\n",
      "[1 5]\n",
      "[9]\n",
      "[10]\n"
     ]
    }
   ],
   "source": [
    "a = np.array([9, -4, 0, 1, 5, 9, 10])\n",
    "x1, x2, x3, x4 = np.hsplit(a, [3, 5, 6]) # Здесь указываем разделять до индекса\n",
    "print(a)\n",
    "print(x1) # Разделит до 3 индекса\n",
    "print(x2) # Разделит от 3 до 5 индекса\n",
    "print(x3) # Разделит от 5 до 6 индекса\n",
    "print(x4) # то что останется"
   ]
  },
  {
   "cell_type": "markdown",
   "id": "f6c67581-4978-4ea2-a1e5-37af4aa6feaa",
   "metadata": {},
   "source": [
    "**У NumPy функции `append`, `insert`, `delete` не являются inplace: они создают новый массив и возвращают его.**\n",
    "\n",
    "* `np.append(arr, values)` — добавляет элементы в конец массива.\n",
    "* `np.insert(arr, index, values)` — вставляет элементы по указанному индексу.\n",
    "* `np.delete(arr, index)` — удаляет элементы по индексу."
   ]
  },
  {
   "cell_type": "code",
   "execution_count": 46,
   "id": "9b5a2691-14b3-44c2-b518-c16be874a6ab",
   "metadata": {},
   "outputs": [
    {
     "name": "stdout",
     "output_type": "stream",
     "text": [
      "[ 9  0  9 10]\n",
      "[ 9 -4  0  1  5  9 10]\n"
     ]
    }
   ],
   "source": [
    "a = np.array([9, -4, 0, 1, 5, 9, 10])\n",
    "print(np.delete(a, [3, 4, 1]))\n",
    "print(a)"
   ]
  },
  {
   "cell_type": "code",
   "execution_count": 47,
   "id": "121d6353-6888-4f64-a52f-71d7131be525",
   "metadata": {},
   "outputs": [
    {
     "name": "stdout",
     "output_type": "stream",
     "text": [
      "[ 9 -4 -1 -1  0  1  5  9 10]\n"
     ]
    }
   ],
   "source": [
    "a = np.array([9, -4, 0, 1, 5, 9, 10])\n",
    "print(np.insert(a, 2, [-1, -1]))"
   ]
  },
  {
   "cell_type": "code",
   "execution_count": 48,
   "id": "7eb71727-01e3-4e4e-ad41-5a97e3e8da25",
   "metadata": {},
   "outputs": [
    {
     "name": "stdout",
     "output_type": "stream",
     "text": [
      "[ 9 -4  0  1  5  9 10  0  0  0]\n"
     ]
    }
   ],
   "source": [
    "a = np.array([9, -4, 0, 1, 5, 9, 10])\n",
    "print(np.append(a, [0, 0, 0]))"
   ]
  },
  {
   "cell_type": "markdown",
   "id": "254313d5-6baf-482c-bf39-7f9d5bf341d8",
   "metadata": {},
   "source": [
    "---\n",
    "\n",
    "**Индексирование массива и срезы в NumPy**\n",
    "\n",
    "1. Массив в обратном порядке;\n",
    "2. Диапазоны индексов: левая граница включается, правая — нет; при этом создаётся представление, а не новый массив;\n",
    "3. Диапазоны индексов с шагом (по умолчанию 1): левая граница включается, правая — нет;\n",
    "4. Важный момент: срез не создаёт копию, а является представлением исходного массива и указывает на ту же область памяти;\n",
    "5. Подмассиву можно присвоить скаляр.\n",
    "\n",
    "---"
   ]
  },
  {
   "cell_type": "code",
   "execution_count": 53,
   "id": "e2cf8d58-f203-434d-9177-ff69d5753c8f",
   "metadata": {},
   "outputs": [
    {
     "data": {
      "text/plain": [
       "array([10,  9,  5,  1,  0, -4,  9])"
      ]
     },
     "execution_count": 53,
     "metadata": {},
     "output_type": "execute_result"
    }
   ],
   "source": [
    "# 1)\n",
    "a = np.array([9, -4, 0, 1, 5, 9, 10])\n",
    "a[::-1]"
   ]
  },
  {
   "cell_type": "code",
   "execution_count": 54,
   "id": "4a5195ea-fdb5-4f97-94b4-a2c4ca11e865",
   "metadata": {},
   "outputs": [
    {
     "data": {
      "text/plain": [
       "array([0, 1, 5])"
      ]
     },
     "execution_count": 54,
     "metadata": {},
     "output_type": "execute_result"
    }
   ],
   "source": [
    "# 2)\n",
    "a = np.array([9, -4, 0, 1, 5, 9, 10])\n",
    "a[2:5]"
   ]
  },
  {
   "cell_type": "code",
   "execution_count": 55,
   "id": "d80fe57f-aafb-4126-9301-dca42e5a0ff4",
   "metadata": {},
   "outputs": [
    {
     "data": {
      "text/plain": [
       "array([-4,  1,  9])"
      ]
     },
     "execution_count": 55,
     "metadata": {},
     "output_type": "execute_result"
    }
   ],
   "source": [
    "# 3) \n",
    "a = np.array([9, -4, 0, 1, 5, 9, 10])\n",
    "a[1:6:2]"
   ]
  },
  {
   "cell_type": "code",
   "execution_count": 58,
   "id": "55ff0325-076d-410b-8fa3-a77071016740",
   "metadata": {},
   "outputs": [
    {
     "name": "stdout",
     "output_type": "stream",
     "text": [
      "[    9 -1000     0     1     5     9    10]\n"
     ]
    }
   ],
   "source": [
    "# 4)\n",
    "a = np.array([9, -4, 0, 1, 5, 9, 10])\n",
    "b = a[0:6]\n",
    "b[1] = -1000\n",
    "print(a)"
   ]
  },
  {
   "cell_type": "code",
   "execution_count": 61,
   "id": "333d508f-0028-4ad1-bca0-a7fba7a346be",
   "metadata": {},
   "outputs": [
    {
     "name": "stdout",
     "output_type": "stream",
     "text": [
      "[ 9  0  1  1  0  9 10]\n"
     ]
    }
   ],
   "source": [
    "# 5)\n",
    "a = np.array([9, -4, 1, 1, 5, 9, 10])\n",
    "a[1:6:3] = 0\n",
    "print(a)"
   ]
  },
  {
   "cell_type": "markdown",
   "id": "cd3a84cd-25e3-4e5e-987c-e89d4455ffbb",
   "metadata": {},
   "source": [
    "---\n",
    "\n",
    "**Копирование массива в отдельную область памяти**\n",
    "С помощью метода `copy` можно создать независимую копию массива.\n",
    "В этом случае новый массив будет храниться в другой области памяти и не будет связан с исходным.\n",
    "\n",
    "Кроме того, в отличие от индексов в Python, в NumPy можно передавать массив индексов.\n",
    "\n",
    "---"
   ]
  },
  {
   "cell_type": "code",
   "execution_count": 64,
   "id": "d2d2b861-2654-4fda-b262-a5ea5d7275a3",
   "metadata": {},
   "outputs": [
    {
     "name": "stdout",
     "output_type": "stream",
     "text": [
      "[ 9 -4 -9  1  5  9 10]\n",
      "[ 9 -4  1  1  5  9 10]\n"
     ]
    }
   ],
   "source": [
    "a = np.array([9, -4, 1, 1, 5, 9, 10])\n",
    "b = a.copy()\n",
    "b[2] = -9\n",
    "print(b)\n",
    "print(a)"
   ]
  },
  {
   "cell_type": "code",
   "execution_count": 67,
   "id": "10eb67e3-67bf-450b-9852-477063cd0f90",
   "metadata": {},
   "outputs": [
    {
     "name": "stdout",
     "output_type": "stream",
     "text": [
      "[-4  1  9]\n"
     ]
    }
   ],
   "source": [
    "# Несколько индексов\n",
    "a = np.array([9, -4, 1, 1, 5, 9, 10])\n",
    "print(a[[1, 3, 5]])"
   ]
  },
  {
   "cell_type": "markdown",
   "id": "d85c45b8-2e08-457a-bef5-22f16cd1eaad",
   "metadata": {},
   "source": [
    "<div align=\"center\">\n",
    "\n",
    "# 3. Двумерные массивы\n",
    "\n",
    "</div>\n",
    "\n",
    "---\n",
    "\n",
    "**Двумерные массивы создаются так же, как и одномерные, но на вход передаётся список списков — по сути, матрица.**"
   ]
  },
  {
   "cell_type": "code",
   "execution_count": 83,
   "id": "178b8a8f-0087-4d3b-ae3c-e21a1fbcde34",
   "metadata": {},
   "outputs": [
    {
     "name": "stdout",
     "output_type": "stream",
     "text": [
      "[[1 2]\n",
      " [3 4]]\n"
     ]
    }
   ],
   "source": [
    "a = np.array([[1, 2], [3, 4]])\n",
    "print(a)"
   ]
  },
  {
   "cell_type": "code",
   "execution_count": 84,
   "id": "f542487c-4517-4daf-b1a1-995dbceb4305",
   "metadata": {},
   "outputs": [
    {
     "data": {
      "text/plain": [
       "2"
      ]
     },
     "execution_count": 84,
     "metadata": {},
     "output_type": "execute_result"
    }
   ],
   "source": [
    "# Кол-во осей, размерность = 2, так как двумерный массив у нас\n",
    "a.ndim"
   ]
  },
  {
   "cell_type": "code",
   "execution_count": 85,
   "id": "8d36c320-9ff0-4e18-b31c-830b80435bf5",
   "metadata": {},
   "outputs": [
    {
     "data": {
      "text/plain": [
       "(2, 2)"
      ]
     },
     "execution_count": 85,
     "metadata": {},
     "output_type": "execute_result"
    }
   ],
   "source": [
    "# Разерность 2 строки и  2 столбца\n",
    "a.shape"
   ]
  },
  {
   "cell_type": "code",
   "execution_count": 86,
   "id": "bc33b140-baea-4cbc-aa40-dd5f5c05394a",
   "metadata": {},
   "outputs": [
    {
     "data": {
      "text/plain": [
       "4"
      ]
     },
     "execution_count": 86,
     "metadata": {},
     "output_type": "execute_result"
    }
   ],
   "source": [
    "# Кол-во элементов\n",
    "a.size"
   ]
  },
  {
   "cell_type": "code",
   "execution_count": 87,
   "id": "18cbe0d5-04a6-48c1-8e33-2b0f43a5e210",
   "metadata": {},
   "outputs": [
    {
     "data": {
      "text/plain": [
       "2"
      ]
     },
     "execution_count": 87,
     "metadata": {},
     "output_type": "execute_result"
    }
   ],
   "source": [
    "# Длина, число элементов по первой оси, тоже = 2\n",
    "len(a)"
   ]
  },
  {
   "cell_type": "markdown",
   "id": "13167865-9ddb-436a-a48e-09361a51188a",
   "metadata": {},
   "source": [
    "---\n",
    "\n",
    "**Индексация в двумерном массиве**\n",
    "\n",
    "Существует два способа:\n",
    "\n",
    "1. Аналогично спискам в Python — сначала указываем индекс строки, затем столбца, через двойные квадратные скобки (`a[0][1]`);\n",
    "2. Использовать одну пару квадратных скобок и перечислять индексы через запятую (`a[0, 1]`).\n",
    "\n",
    "---"
   ]
  },
  {
   "cell_type": "code",
   "execution_count": 88,
   "id": "3972241e-ab28-4b86-b16b-f190c022be8f",
   "metadata": {},
   "outputs": [
    {
     "data": {
      "text/plain": [
       "np.int64(4)"
      ]
     },
     "execution_count": 88,
     "metadata": {},
     "output_type": "execute_result"
    }
   ],
   "source": [
    "# 1)\n",
    "a = np.array([[1, 2], [3, 4]])\n",
    "a[1][1]"
   ]
  },
  {
   "cell_type": "code",
   "execution_count": 89,
   "id": "26a40476-a918-44a2-9ebb-d801d9f32faf",
   "metadata": {},
   "outputs": [
    {
     "data": {
      "text/plain": [
       "np.int64(4)"
      ]
     },
     "execution_count": 89,
     "metadata": {},
     "output_type": "execute_result"
    }
   ],
   "source": [
    "# 2)\n",
    "a = np.array([[1, 2], [3, 4]])\n",
    "a[1, 1]"
   ]
  },
  {
   "cell_type": "markdown",
   "id": "60c730b6-0703-42c6-9627-6500a53b4cc6",
   "metadata": {},
   "source": [
    "---\n",
    "\n",
    "**`shape`**\n",
    "\n",
    "Атрибут `shape` позволяет изменять размерность массива без изменения самих данных.\n",
    "Размерность задаётся в виде кортежа. При этом общее число элементов в новом представлении должно совпадать с числом элементов исходного массива.\n",
    "\n",
    "---"
   ]
  },
  {
   "cell_type": "code",
   "execution_count": 92,
   "id": "7a5269c3-9b99-480b-9f5d-90808a2190e8",
   "metadata": {},
   "outputs": [
    {
     "name": "stdout",
     "output_type": "stream",
     "text": [
      "[[ 0  1  2  3  4  5  6  7  8  9]\n",
      " [10 11 12 13 14 15 16 17 18 19]]\n"
     ]
    }
   ],
   "source": [
    "a = np.arange(0, 20)\n",
    "a.shape = (2, 10)\n",
    "print(a)"
   ]
  },
  {
   "cell_type": "markdown",
   "id": "0f3b3df1-e2fd-4d69-85eb-2d5e1fe32293",
   "metadata": {},
   "source": [
    "---\n",
    "\n",
    "**Метод `ravel`**\n",
    "\n",
    "Метод `ravel` преобразует многомерный массив в одномерный, «разворачивая» все его элементы в последовательность.\n",
    "\n",
    "---"
   ]
  },
  {
   "cell_type": "code",
   "execution_count": 93,
   "id": "759af759-a136-4df8-ac71-bc014a4a763c",
   "metadata": {},
   "outputs": [
    {
     "name": "stdout",
     "output_type": "stream",
     "text": [
      "[1 2 3 4]\n"
     ]
    }
   ],
   "source": [
    "a = np.array([[1, 2], [3, 4]])\n",
    "print(a.ravel())"
   ]
  },
  {
   "cell_type": "markdown",
   "id": "0a4d2a8b-7534-4acb-8df8-51f0bcb4a05a",
   "metadata": {},
   "source": [
    "---\n",
    "\n",
    "Так же, как в одномерном массиве, в двумерном можно создавать матрицы из нулей или единиц, передавая в качестве аргумента кортеж размерности `(n — число строк, m — число столбцов)`.\n",
    "\n",
    "---"
   ]
  },
  {
   "cell_type": "code",
   "execution_count": 95,
   "id": "554da305-e78d-4e8d-ab70-7bc49f43e147",
   "metadata": {},
   "outputs": [
    {
     "name": "stdout",
     "output_type": "stream",
     "text": [
      "[[0. 0. 0.]\n",
      " [0. 0. 0.]\n",
      " [0. 0. 0.]]\n"
     ]
    }
   ],
   "source": [
    "a = np.zeros((3, 3))\n",
    "print(a)"
   ]
  },
  {
   "cell_type": "code",
   "execution_count": 96,
   "id": "6d9c139c-fbe8-47a4-a097-c372c9fd2c79",
   "metadata": {},
   "outputs": [
    {
     "name": "stdout",
     "output_type": "stream",
     "text": [
      "[[1. 1. 1. 1.]\n",
      " [1. 1. 1. 1.]\n",
      " [1. 1. 1. 1.]]\n"
     ]
    }
   ],
   "source": [
    "a = np.ones((3, 4))\n",
    "print(a)"
   ]
  },
  {
   "cell_type": "markdown",
   "id": "9d946258-02a5-441c-8959-e7ee6e66a66c",
   "metadata": {},
   "source": [
    "---\n",
    "\n",
    "Функция `eye()` — важный инструмент для линейной алгебры, так как она создаёт квадратную единичную матрицу.\n",
    "\n",
    "Также можно создавать произвольные матрицы с ненулевыми элементами только на главной диагонали с помощью функции `diag()`. На вход передаётся массив элементов, которые будут расположены на диагонали матрицы.\n",
    "\n",
    "---"
   ]
  },
  {
   "cell_type": "code",
   "execution_count": 99,
   "id": "b2d056cd-2efa-4122-b16f-e9d3aae2f6b1",
   "metadata": {},
   "outputs": [
    {
     "name": "stdout",
     "output_type": "stream",
     "text": [
      "[[1. 0. 0.]\n",
      " [0. 1. 0.]\n",
      " [0. 0. 1.]]\n"
     ]
    }
   ],
   "source": [
    "# Еденичная матрица\n",
    "a = np.eye(3)\n",
    "print(a)"
   ]
  },
  {
   "cell_type": "code",
   "execution_count": 100,
   "id": "0c948217-2e42-4870-b383-7d4e1996ce0d",
   "metadata": {},
   "outputs": [
    {
     "name": "stdout",
     "output_type": "stream",
     "text": [
      "[[1 0 0 0]\n",
      " [0 2 0 0]\n",
      " [0 0 3 0]\n",
      " [0 0 0 4]]\n"
     ]
    }
   ],
   "source": [
    "# Произвольная матрица по диагонали\n",
    "a = np.diag(np.array([1, 2, 3, 4]))\n",
    "print(a)"
   ]
  },
  {
   "cell_type": "code",
   "execution_count": 104,
   "id": "bf518463-47fe-4a0f-8d98-02231c70d932",
   "metadata": {},
   "outputs": [
    {
     "name": "stdout",
     "output_type": "stream",
     "text": [
      "[[ 3.  0.  0.  0.  0.  0.  0. -1.]\n",
      " [ 0.  6.  0.  0.  0.  0. -1.  0.]\n",
      " [ 0.  0.  9.  0.  0. -1.  0.  0.]\n",
      " [ 0.  0.  0. 12. -1.  0.  0.  0.]\n",
      " [ 0.  0.  0. -1. 15.  0.  0.  0.]\n",
      " [ 0.  0. -1.  0.  0. 18.  0.  0.]\n",
      " [ 0. -1.  0.  0.  0.  0. 21.  0.]\n",
      " [-1.  0.  0.  0.  0.  0.  0. 24.]]\n"
     ]
    }
   ],
   "source": [
    "# Пример\n",
    "# Создать квадратную матрицу размером (8), где на главной \n",
    "# диагонали будет арифметическая прогрессия с шагом 3, начиная с 3,\n",
    "# а на побочной диагонали -1.\n",
    "\n",
    "a = -1 * np.eye(8)[::-1] + np.diag(np.arange(3, 27, 3))\n",
    "print(a)"
   ]
  },
  {
   "cell_type": "markdown",
   "id": "ba411f93-3562-4730-9231-ae4ba7de3d24",
   "metadata": {},
   "source": [
    "---\n",
    "\n",
    "#### Умножение матриц в NumPy\n",
    "\n",
    "1. **Поэлементное умножение** — выполняется для двух матриц одинаковой размерности (операция `*`).\n",
    "2. **Матричное умножение** — выполняется с помощью оператора `@` или метода `dot()`. Для этого число столбцов первой матрицы должно совпадать с числом строк второй.\n",
    "   Важно: матричное умножение **не коммутативно** (в общем случае `A @ B ≠ B @ A`).\n",
    "   Метод `dot()` применяется как к векторно-скалярным операциям, так и к умножению матриц.\n",
    "\n",
    "---"
   ]
  },
  {
   "cell_type": "code",
   "execution_count": 109,
   "id": "8c9ce200-a1a5-446a-b9e3-c4eedf2696aa",
   "metadata": {},
   "outputs": [
    {
     "name": "stdout",
     "output_type": "stream",
     "text": [
      "[[5. 5. 5. 5. 5.]\n",
      " [5. 5. 5. 5. 5.]\n",
      " [5. 5. 5. 5. 5.]\n",
      " [5. 5. 5. 5. 5.]\n",
      " [5. 5. 5. 5. 5.]] \n",
      "\n",
      "[[2. 1. 1. 1. 1.]\n",
      " [1. 2. 1. 1. 1.]\n",
      " [1. 1. 2. 1. 1.]\n",
      " [1. 1. 1. 2. 1.]\n",
      " [1. 1. 1. 1. 2.]]\n"
     ]
    }
   ],
   "source": [
    "a = 5 * np.ones((5, 5))\n",
    "b = np.eye(5) + 1\n",
    "print(a,\"\\n\")\n",
    "print(b)"
   ]
  },
  {
   "cell_type": "code",
   "execution_count": 110,
   "id": "3f6e9002-643a-4d37-bac8-8fec085a2c9c",
   "metadata": {},
   "outputs": [
    {
     "name": "stdout",
     "output_type": "stream",
     "text": [
      "[[10.  5.  5.  5.  5.]\n",
      " [ 5. 10.  5.  5.  5.]\n",
      " [ 5.  5. 10.  5.  5.]\n",
      " [ 5.  5.  5. 10.  5.]\n",
      " [ 5.  5.  5.  5. 10.]]\n"
     ]
    }
   ],
   "source": [
    "# 1)\n",
    "print(a * b)"
   ]
  },
  {
   "cell_type": "code",
   "execution_count": 111,
   "id": "f7e7b057-c97a-4900-a6a2-12e65c7dd719",
   "metadata": {},
   "outputs": [
    {
     "name": "stdout",
     "output_type": "stream",
     "text": [
      "[[30. 30. 30. 30. 30.]\n",
      " [30. 30. 30. 30. 30.]\n",
      " [30. 30. 30. 30. 30.]\n",
      " [30. 30. 30. 30. 30.]\n",
      " [30. 30. 30. 30. 30.]]\n"
     ]
    }
   ],
   "source": [
    "# 2)\n",
    "print(a @ b)"
   ]
  },
  {
   "cell_type": "code",
   "execution_count": 112,
   "id": "479b37cf-1327-40df-81aa-adb730966f7a",
   "metadata": {},
   "outputs": [
    {
     "name": "stdout",
     "output_type": "stream",
     "text": [
      "[[30. 30. 30. 30. 30.]\n",
      " [30. 30. 30. 30. 30.]\n",
      " [30. 30. 30. 30. 30.]\n",
      " [30. 30. 30. 30. 30.]\n",
      " [30. 30. 30. 30. 30.]]\n"
     ]
    }
   ],
   "source": [
    "# 2)\n",
    "print(a.dot(b))"
   ]
  },
  {
   "cell_type": "markdown",
   "id": "834f0785-fb08-43b4-be5e-fab61739454c",
   "metadata": {},
   "source": [
    "---\n",
    "\n",
    "**Создание двумерных массивов с помощью `meshgrid()`**\n",
    "\n",
    "Метод `meshgrid()` позволяет создать двумерные массивы, зависящие от одного индекса:\n",
    "\n",
    "$$\n",
    "X_{ij} = u_j, \\quad Y_{ij} = v_i\n",
    "$$\n",
    "\n",
    "Распространённый пример применения — создание сетки для построения 3D-графиков.\n",
    "\n",
    "---"
   ]
  },
  {
   "cell_type": "code",
   "execution_count": 113,
   "id": "2aeb497b-af22-44b4-b747-2e8171c4843f",
   "metadata": {},
   "outputs": [
    {
     "name": "stdout",
     "output_type": "stream",
     "text": [
      "[1. 2.]\n",
      "[4. 6. 8.]\n"
     ]
    }
   ],
   "source": [
    "u = np.linspace(1, 2, 2)\n",
    "v = np.linspace(4, 8, 3)\n",
    "print(u)\n",
    "print(v)"
   ]
  },
  {
   "cell_type": "code",
   "execution_count": 114,
   "id": "402f8a79-dd94-4a21-9d06-b46f5208fd70",
   "metadata": {},
   "outputs": [
    {
     "name": "stdout",
     "output_type": "stream",
     "text": [
      "[[1. 2.]\n",
      " [1. 2.]\n",
      " [1. 2.]] \n",
      "\n",
      "[[4. 4.]\n",
      " [6. 6.]\n",
      " [8. 8.]]\n"
     ]
    }
   ],
   "source": [
    "x, y = np.meshgrid(u, v)\n",
    "print(x, '\\n')\n",
    "print(y)"
   ]
  },
  {
   "cell_type": "markdown",
   "id": "e25f6df2-49b7-4da2-9b0b-e5dda47ae184",
   "metadata": {},
   "source": [
    "---\n",
    "\n",
    "**Замена атрибута `shape`**\n",
    "\n",
    "Более удобная запись для изменения размерности массива — метод `reshape()`.\n",
    "\n",
    "* Если передать один аргумент, двумерный массив «вытягивается» в одномерный.\n",
    "* Если передать кортеж, можно задать новую размерность массива (при этом общее число элементов должно совпадать с исходным).\n",
    "\n",
    "---"
   ]
  },
  {
   "cell_type": "code",
   "execution_count": 117,
   "id": "b1cd7ebe-a7b4-4488-9b45-37a028ddbb40",
   "metadata": {},
   "outputs": [
    {
     "name": "stdout",
     "output_type": "stream",
     "text": [
      "[[1 2]\n",
      " [1 2]\n",
      " [1 2]] \n",
      "\n",
      "[1 2 1 2 1 2]\n"
     ]
    }
   ],
   "source": [
    "x = np.array([[1, 2], [1, 2], [1, 2]])\n",
    "print(x, '\\n')\n",
    "print(x.reshape(6))"
   ]
  },
  {
   "cell_type": "markdown",
   "id": "518f9df5-a57d-45c5-aa69-fb19b26e5812",
   "metadata": {},
   "source": [
    "---\n",
    "\n",
    "#### Маски\n",
    "\n",
    "Маска — это массив булевых значений (`True` или `False`), имеющий ту же размерность, что и исходный массив.\n",
    "\n",
    "---"
   ]
  },
  {
   "cell_type": "code",
   "execution_count": 153,
   "id": "f4d7e1e7-2b6e-495b-adcc-4e2b3754887a",
   "metadata": {},
   "outputs": [
    {
     "name": "stdout",
     "output_type": "stream",
     "text": [
      "[ True False False  True False False  True False False  True False False\n",
      "  True False False  True False False  True False]\n",
      "[ 0  3  6  9 12 15 18]\n"
     ]
    }
   ],
   "source": [
    "a = np.arange(20)\n",
    "print(a % 3 == 0) # Выводится массив [True, False] \n",
    "print(a[a % 3 == 0]) # Передача маски в качестве индекса "
   ]
  },
  {
   "cell_type": "markdown",
   "id": "bfeb2cab-b19f-435b-8e36-7b80879ca611",
   "metadata": {},
   "source": [
    "---\n",
    "\n",
    "#### След (trace)\n",
    "\n",
    "След матрицы — это сумма элементов главной диагонали матрицы.\n",
    "\n",
    "---"
   ]
  },
  {
   "cell_type": "code",
   "execution_count": 123,
   "id": "cc89652f-151a-4167-82dd-3c1cd5c90ea9",
   "metadata": {},
   "outputs": [
    {
     "name": "stdout",
     "output_type": "stream",
     "text": [
      "[[10  0  0  0  0  0  0  0  0  0]\n",
      " [ 0 11  0  0  0  0  0  0  0  0]\n",
      " [ 0  0 12  0  0  0  0  0  0  0]\n",
      " [ 0  0  0 13  0  0  0  0  0  0]\n",
      " [ 0  0  0  0 14  0  0  0  0  0]\n",
      " [ 0  0  0  0  0 15  0  0  0  0]\n",
      " [ 0  0  0  0  0  0 16  0  0  0]\n",
      " [ 0  0  0  0  0  0  0 17  0  0]\n",
      " [ 0  0  0  0  0  0  0  0 18  0]\n",
      " [ 0  0  0  0  0  0  0  0  0 19]] \n",
      "\n",
      "145\n"
     ]
    }
   ],
   "source": [
    "a = np.arange(20)\n",
    "b = np.diag(a[a >= 10])\n",
    "print(b, '\\n')\n",
    "print(np.trace(b))"
   ]
  },
  {
   "cell_type": "markdown",
   "id": "8e8e863c-08f6-4b73-bd12-ed97320375e1",
   "metadata": {},
   "source": [
    "<div align=\"center\">\n",
    "\n",
    "# 4. Тензоры (Многомерные массивы)\n",
    "\n",
    "</div>\n",
    "\n",
    "---"
   ]
  },
  {
   "cell_type": "code",
   "execution_count": 126,
   "id": "930e81ae-a69c-4d7c-8020-a05aa1aa5a97",
   "metadata": {},
   "outputs": [
    {
     "name": "stdout",
     "output_type": "stream",
     "text": [
      "[[[ 0  1  2  3]\n",
      "  [ 4  5  6  7]]\n",
      "\n",
      " [[ 8  9 10 11]\n",
      "  [12 13 14 15]]\n",
      "\n",
      " [[16 17 18 19]\n",
      "  [20 21 22 23]]\n",
      "\n",
      " [[24 25 26 27]\n",
      "  [28 29 30 31]]\n",
      "\n",
      " [[32 33 34 35]\n",
      "  [36 37 38 39]]\n",
      "\n",
      " [[40 41 42 43]\n",
      "  [44 45 46 47]]\n",
      "\n",
      " [[48 49 50 51]\n",
      "  [52 53 54 55]]\n",
      "\n",
      " [[56 57 58 59]\n",
      "  [60 61 62 63]]]\n"
     ]
    }
   ],
   "source": [
    "# Создадим многомерный массив\n",
    "x = np.arange(64).reshape(8, 2, 4) \n",
    "print(x)"
   ]
  },
  {
   "cell_type": "code",
   "execution_count": 127,
   "id": "6971d950-ca0a-4137-8ea5-a1c552cd599d",
   "metadata": {},
   "outputs": [
    {
     "data": {
      "text/plain": [
       "(8, 2, 4)"
      ]
     },
     "execution_count": 127,
     "metadata": {},
     "output_type": "execute_result"
    }
   ],
   "source": [
    "# Кол-во матриц 8, \n",
    "x.shape"
   ]
  },
  {
   "cell_type": "code",
   "execution_count": 128,
   "id": "4df3d528-d498-41ff-b36a-38063cdbc63a",
   "metadata": {},
   "outputs": [
    {
     "data": {
      "text/plain": [
       "3"
      ]
     },
     "execution_count": 128,
     "metadata": {},
     "output_type": "execute_result"
    }
   ],
   "source": [
    "# Размерность, массив у нас 3-х мерный\n",
    "x.ndim"
   ]
  },
  {
   "cell_type": "code",
   "execution_count": 129,
   "id": "3f531ccd-5619-4b50-9fdb-fe0fbc725f6c",
   "metadata": {},
   "outputs": [
    {
     "data": {
      "text/plain": [
       "64"
      ]
     },
     "execution_count": 129,
     "metadata": {},
     "output_type": "execute_result"
    }
   ],
   "source": [
    "# Кол-во элементов\n",
    "x.size"
   ]
  },
  {
   "cell_type": "markdown",
   "id": "ce3ff974-540c-4133-afe6-39086ac65622",
   "metadata": {},
   "source": [
    "---\n",
    "\n",
    "**Операции по осям в многомерных массивах**\n",
    "\n",
    "Особенность работы с двумерными и многомерными массивами в NumPy в том, что многие операции (сумма, среднее, медиана и т.д.) можно применять не только ко всему массиву целиком, но и по отдельным осям.\n",
    "\n",
    "Рассмотрим метод `sum()` с параметром `axis`:\n",
    "\n",
    "* `axis=0` — суммирование вдоль **первой оси** (обычно по столбцам). Результат сохраняет количество элементов по оставшимся осям.\n",
    "* `axis=1` — суммирование вдоль **второй оси** (обычно по строкам).\n",
    "* `axis=2` — суммирование вдоль **третьей оси** (для трёхмерных массивов — по «глубине»).\n",
    "* `axis=(i, j, …)` — можно передавать кортеж осей; суммирование производится одновременно по нескольким осям, и результат имеет размерность оставшихся осей (может стать одномерным массивом).\n",
    "\n",
    "---"
   ]
  },
  {
   "cell_type": "code",
   "execution_count": 133,
   "id": "813a8db9-d604-4632-b231-1e5ad43fd2ea",
   "metadata": {},
   "outputs": [
    {
     "name": "stdout",
     "output_type": "stream",
     "text": [
      "2016 \n",
      "\n",
      "[[224 232 240 248]\n",
      " [256 264 272 280]] \n",
      "\n",
      "[[  4   6   8  10]\n",
      " [ 20  22  24  26]\n",
      " [ 36  38  40  42]\n",
      " [ 52  54  56  58]\n",
      " [ 68  70  72  74]\n",
      " [ 84  86  88  90]\n",
      " [100 102 104 106]\n",
      " [116 118 120 122]] \n",
      "\n",
      "[[  6  22]\n",
      " [ 38  54]\n",
      " [ 70  86]\n",
      " [102 118]\n",
      " [134 150]\n",
      " [166 182]\n",
      " [198 214]\n",
      " [230 246]] \n",
      "\n",
      "[ 28  92 156 220 284 348 412 476]\n"
     ]
    }
   ],
   "source": [
    "x = np.arange(64).reshape(8, 2, 4)\n",
    "print(np.sum(x), '\\n') # Сумма всех элементов массива\n",
    "print(np.sum(x, axis = 0), '\\n') # Суммирование вдоль первой оси\n",
    "print(np.sum(x, axis = 1), '\\n')\n",
    "print(np.sum(x, axis = 2), '\\n')\n",
    "print(np.sum(x, axis = (1, 2)))"
   ]
  },
  {
   "cell_type": "markdown",
   "id": "aeda5d57-a1f9-468c-8841-a5bb606bd7ff",
   "metadata": {},
   "source": [
    "<div align=\"center\">\n",
    "\n",
    "# 5. Линейная алгебра\n",
    "\n",
    "</div>\n",
    "\n",
    "---"
   ]
  },
  {
   "cell_type": "code",
   "execution_count": 137,
   "id": "52a400c9-d6bd-4bc6-b26b-8cf1ef588f70",
   "metadata": {},
   "outputs": [
    {
     "name": "stdout",
     "output_type": "stream",
     "text": [
      "[[2 1]\n",
      " [2 3]]\n"
     ]
    }
   ],
   "source": [
    "a = np.array([[2, 1], [2, 3]])\n",
    "print(a)"
   ]
  },
  {
   "cell_type": "code",
   "execution_count": 139,
   "id": "b9e9a143-6637-4aa3-93b1-ffa2155ee7b4",
   "metadata": {},
   "outputs": [
    {
     "name": "stdout",
     "output_type": "stream",
     "text": [
      "4.0\n"
     ]
    }
   ],
   "source": [
    "# Определитель\n",
    "a = np.array([[2, 1], [2, 3]])\n",
    "print(np.linalg.det(a))"
   ]
  },
  {
   "cell_type": "code",
   "execution_count": 140,
   "id": "24d0c3a6-ba11-4a3c-8202-5150baaf265e",
   "metadata": {},
   "outputs": [
    {
     "name": "stdout",
     "output_type": "stream",
     "text": [
      "[[ 0.75 -0.25]\n",
      " [-0.5   0.5 ]]\n"
     ]
    }
   ],
   "source": [
    "# Обратная матрица\n",
    "a = np.array([[2, 1], [2, 3]])\n",
    "b = np.linalg.inv(a)\n",
    "print(b)"
   ]
  },
  {
   "cell_type": "code",
   "execution_count": 142,
   "id": "0d3cd501-0597-46ce-a94e-4993066a19d4",
   "metadata": {},
   "outputs": [
    {
     "name": "stdout",
     "output_type": "stream",
     "text": [
      "[[1. 0.]\n",
      " [0. 1.]]\n",
      "[[1. 0.]\n",
      " [0. 1.]]\n"
     ]
    }
   ],
   "source": [
    "# Проверка обратной матрицы, должны быть еденичные матрицы\n",
    "a = np.array([[2, 1], [2, 3]])\n",
    "b = np.linalg.inv(a)\n",
    "print(a.dot(b))\n",
    "print(b.dot(a))"
   ]
  },
  {
   "cell_type": "markdown",
   "id": "326de259-7147-422a-bb01-05e3ba0955e1",
   "metadata": {},
   "source": [
    "**Решение НЛУ**\n",
    "\n",
    "$$A * x = v$$"
   ]
  },
  {
   "cell_type": "code",
   "execution_count": 143,
   "id": "a66e086c-5a04-49a7-aa33-43d30e37b7fc",
   "metadata": {},
   "outputs": [
    {
     "name": "stdout",
     "output_type": "stream",
     "text": [
      "[ 6.25 -7.5 ]\n"
     ]
    }
   ],
   "source": [
    "a = np.array([[2, 1], [2, 3]]) \n",
    "v = np.array([5, -10])\n",
    "print(np.linalg.solve(a, v))"
   ]
  },
  {
   "cell_type": "markdown",
   "id": "2ac69270-d62d-427d-a387-f81a7a3aca7f",
   "metadata": {},
   "source": [
    "**Найти собственные векторы матрицы A**\n",
    "\n",
    "$$A * x = \\lambda * x$$"
   ]
  },
  {
   "cell_type": "code",
   "execution_count": 144,
   "id": "429fc03a-59ff-48e8-9c82-8b7fea30c33d",
   "metadata": {},
   "outputs": [
    {
     "name": "stdout",
     "output_type": "stream",
     "text": [
      "[1. 4.]\n",
      "[[-0.70710678 -0.4472136 ]\n",
      " [ 0.70710678 -0.89442719]]\n"
     ]
    }
   ],
   "source": [
    "a = np.array([[2, 1], [2, 3]]) \n",
    "l, u = np.linalg.eig(a)\n",
    "print(l)\n",
    "print(u)"
   ]
  },
  {
   "cell_type": "markdown",
   "id": "5107475e-0246-44b2-873a-65d84f3242b9",
   "metadata": {},
   "source": [
    "**Собственные значения матрицы $A$ и $A^T$ совпадают**"
   ]
  },
  {
   "cell_type": "code",
   "execution_count": 145,
   "id": "b76eba86-1451-4501-8e95-c183ffa2cdd0",
   "metadata": {},
   "outputs": [
    {
     "name": "stdout",
     "output_type": "stream",
     "text": [
      "[1. 4.]\n",
      "[[-0.89442719 -0.70710678]\n",
      " [ 0.4472136  -0.70710678]]\n"
     ]
    }
   ],
   "source": [
    "a = np.array([[2, 1], [2, 3]]) \n",
    "l, u = np.linalg.eig(a.T)\n",
    "print(l)\n",
    "print(u)"
   ]
  }
 ],
 "metadata": {
  "kernelspec": {
   "display_name": "Python Tools",
   "language": "python",
   "name": "python-data-notebooks_env"
  },
  "language_info": {
   "codemirror_mode": {
    "name": "ipython",
    "version": 3
   },
   "file_extension": ".py",
   "mimetype": "text/x-python",
   "name": "python",
   "nbconvert_exporter": "python",
   "pygments_lexer": "ipython3",
   "version": "3.12.3"
  }
 },
 "nbformat": 4,
 "nbformat_minor": 5
}
